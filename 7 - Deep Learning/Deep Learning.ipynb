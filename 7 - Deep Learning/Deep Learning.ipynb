{
 "cells": [
  {
   "cell_type": "markdown",
   "metadata": {
    "slideshow": {
     "slide_type": "slide"
    }
   },
   "source": [
    "This notebook is part of the [Machine Learning class](https://github.com/erachelson/MLclass) by [Emmanuel Rachelson](https://personnel.isae-supaero.fr/emmanuel-rachelson?lang=en).\n",
    "\n",
    "License: CC-BY-SA-NC."
   ]
  },
  {
   "cell_type": "markdown",
   "metadata": {
    "slideshow": {
     "slide_type": "slide"
    }
   },
   "source": [
    "# Deep Learning\n",
    "\n",
    "This class supposes a basic knowledge of Artificial Neural Networks, Backpropagation and Stochastic Gradient Descent (as introduced in the previous class). If you want an in-depth refresher on linear algebra specific to deep learning, [these notebooks](https://github.com/hadrienj/deepLearningBook-Notes) are well-done.\n",
    "\n",
    "0. [Preparation](#sec0)\n",
    "1. [Neural network training with PyTorch](#sec1)\n",
    "2. [The Fashion-MNIST dataset](#sec2)\n",
    "2. [Going deeper (first steps in Deep Learning)](#sec3)\n",
    "3. [Avoiding overfitting](#sec4)\n",
    "4. [Better optimizers](#sec5)\n",
    "5. [CNN](#sec6)\n",
    "6. [Going further](#sec7)"
   ]
  },
  {
   "cell_type": "markdown",
   "metadata": {
    "slideshow": {
     "slide_type": "slide"
    }
   },
   "source": [
    "# <a id=\"sec0\">0. Preparation</a>"
   ]
  },
  {
   "cell_type": "markdown",
   "metadata": {
    "slideshow": {
     "slide_type": "fragment"
    }
   },
   "source": [
    "In this notebook, we'll be using `torch` and `torchvision`. Please refer to the [PyTorch](https://pytorch.org/get-started/locally/) website for installation instructions. We'll also be using the packages `sklearn`, `numpy`, and `matplotlib`. To make the notebook into slides, I'm using [`rise`](https://github.com/damianavila/RISE) which you can also install."
   ]
  },
  {
   "cell_type": "markdown",
   "metadata": {
    "slideshow": {
     "slide_type": "fragment"
    }
   },
   "source": [
    "<div class=\"alert alert-success\">\n",
    "Exercise 1:\n",
    "Install the necessary packages and verify that everything is working by importing everything.\n",
    "</div>"
   ]
  },
  {
   "cell_type": "code",
   "execution_count": 68,
   "metadata": {
    "slideshow": {
     "slide_type": "fragment"
    }
   },
   "outputs": [],
   "source": [
    "import torch\n",
    "import torchvision\n",
    "import numpy as np\n",
    "%matplotlib inline\n",
    "import matplotlib.pyplot as plt"
   ]
  },
  {
   "cell_type": "markdown",
   "metadata": {
    "slideshow": {
     "slide_type": "slide"
    }
   },
   "source": [
    "# <a id=\"sec1\">1. Dataset: Fashion-MNIST</a>"
   ]
  },
  {
   "cell_type": "markdown",
   "metadata": {
    "slideshow": {
     "slide_type": "fragment"
    }
   },
   "source": [
    "[Fashion-MNIST](https://github.com/zalandoresearch/fashion-mnist) is a dataset of Zalando's article images—consisting of a training set of 60,000 examples and a test set of 10,000 examples. Each example is a 28x28 grayscale image, associated with a label from 10 classes. Fashion-MNIST is a direct drop-in replacement for the original MNIST dataset for benchmarking machine learning algorithms. It shares the same image size and structure of training and testing splits but is more complex.\n",
    "\n",
    "<img src=\"img/fashion-mnist-small.png\">"
   ]
  },
  {
   "cell_type": "code",
   "execution_count": 69,
   "metadata": {
    "slideshow": {
     "slide_type": "fragment"
    }
   },
   "outputs": [],
   "source": [
    "labels_text = [\"T-shirt/top\", \"Trouser\", \"Pullover\", \"Dress\", \"Coat\", \"Sandal\", \"Shirt\", \"Sneaker\", \"Bag\", \"Ankle boot\"]"
   ]
  },
  {
   "cell_type": "markdown",
   "metadata": {
    "slideshow": {
     "slide_type": "slide"
    }
   },
   "source": [
    "PyTorch comes with this dataset by default, but we need to download it. We'll then make dataloaders which lazily iterate through the datasets."
   ]
  },
  {
   "cell_type": "code",
   "execution_count": 89,
   "metadata": {
    "slideshow": {
     "slide_type": "fragment"
    }
   },
   "outputs": [],
   "source": [
    "to_tensor = torchvision.transforms.Compose([torchvision.transforms.ToTensor()])\n",
    "\n",
    "trainset = torchvision.datasets.FashionMNIST(root='../data', train=True, download=True, transform=to_tensor)\n",
    "trainloader = torch.utils.data.DataLoader(trainset, batch_size=4, shuffle=True)\n",
    "\n",
    "testset = torchvision.datasets.FashionMNIST(root='../data', train=False, download=True, transform=to_tensor)\n",
    "testloader = torch.utils.data.DataLoader(testset, batch_size=4, shuffle=False, num_workers=2)"
   ]
  },
  {
   "cell_type": "markdown",
   "metadata": {
    "slideshow": {
     "slide_type": "slide"
    }
   },
   "source": [
    "<div class=\"alert alert-success\">\n",
    "Exercise 2:\n",
    "Download the Fashion-MNIST dataset and run the following code.\n",
    "    \n",
    "+ Why are there 4 images in our list?\n",
    "+ Why does the list of images change every time?\n",
    "\n",
    "</div>"
   ]
  },
  {
   "cell_type": "code",
   "execution_count": 90,
   "metadata": {
    "slideshow": {
     "slide_type": "fragment"
    }
   },
   "outputs": [
    {
     "data": {
      "image/png": "[encoded data removed]",
      "text/plain": [
       "<Figure size 288x288 with 4 Axes>"
      ]
     },
     "metadata": {
      "needs_background": "light"
     },
     "output_type": "display_data"
    }
   ],
   "source": [
    "# get the first batch of images and labels\n",
    "dataiter = iter(trainloader)\n",
    "images, labels = dataiter.next()\n",
    "\n",
    "plt.figure(figsize=(4,4))\n",
    "for i in range(len(images)):\n",
    "    l = labels[i].numpy()\n",
    "    plt.subplot(2, 2, i+1)\n",
    "    plt.title('%d: %s' % (l, labels_text[l]))\n",
    "    plt.imshow(images[i].numpy()[0], cmap='Greys')\n",
    "    plt.axis('off')"
   ]
  },
  {
   "cell_type": "markdown",
   "metadata": {
    "slideshow": {
     "slide_type": "slide"
    }
   },
   "source": [
    "For the rest of today, we'll focus on creating a deep neural network that accurately classifies these images. This will highlight one application of deep learning, image processing, which has been highly successful. In upcoming classes, we'll see other examples of deep learning (GANs, LSTMs) which have different architectures and training rules. However, the basic principles remain the same!"
   ]
  },
  {
   "cell_type": "markdown",
   "metadata": {
    "slideshow": {
     "slide_type": "slide"
    }
   },
   "source": [
    "# <a id=\"sec2\">2. ANNs in Layers</a>"
   ]
  },
  {
   "cell_type": "markdown",
   "metadata": {
    "slideshow": {
     "slide_type": "fragment"
    }
   },
   "source": [
    "Last class, we looked at individual neurons organized in networks like this:\n",
    "\n",
    "<img src=\"img/nn_fc.png\" width=\"60%\">\n",
    "\n",
    "These two hidden layers are called \"Fully Connected layers\" because every neuron of these layers is connected to every neuron of the previous layer."
   ]
  },
  {
   "cell_type": "markdown",
   "metadata": {
    "slideshow": {
     "slide_type": "slide"
    }
   },
   "source": [
    "In PyTorch, Fully Connected layers are represented with the `torch.nn.Linear` function. The documentation is [here](https://pytorch.org/docs/stable/nn.html?highlight=torch%20nn%20linear#torch.nn.Linear) or we can ask Jupyter:"
   ]
  },
  {
   "cell_type": "code",
   "execution_count": 72,
   "metadata": {
    "slideshow": {
     "slide_type": "fragment"
    }
   },
   "outputs": [],
   "source": [
    "?torch.nn.Linear"
   ]
  },
  {
   "cell_type": "markdown",
   "metadata": {
    "slideshow": {
     "slide_type": "slide"
    }
   },
   "source": [
    "Let's make a single fully connected layer:"
   ]
  },
  {
   "cell_type": "code",
   "execution_count": 73,
   "metadata": {
    "slideshow": {
     "slide_type": "fragment"
    }
   },
   "outputs": [],
   "source": [
    "from torch import nn\n",
    "fc = nn.Linear(784, 10)"
   ]
  },
  {
   "cell_type": "markdown",
   "metadata": {
    "slideshow": {
     "slide_type": "fragment"
    }
   },
   "source": [
    "Let's use this layer as a network and construct a forward pass function. Our image data is 28 by 28, but we want it to match the layer dimensions. We'll transform the image from 28 by 28 to 1 by 784, and then pass the image through our fully connected layer."
   ]
  },
  {
   "cell_type": "code",
   "execution_count": 74,
   "metadata": {
    "slideshow": {
     "slide_type": "fragment"
    }
   },
   "outputs": [],
   "source": [
    "def forward(x):\n",
    "    x = x.view(-1, 28 * 28) # Transforms from (1, 28, 28) to (1, 784)\n",
    "    x = fc(x) # Goes through fully connected layer\n",
    "    return x # Output, 10 neurons"
   ]
  },
  {
   "cell_type": "markdown",
   "metadata": {
    "slideshow": {
     "slide_type": "slide"
    }
   },
   "source": [
    "We'll take the maximum output as our label prediction. Let's see how this layer does - remember we haven't trained it, it's completely random."
   ]
  },
  {
   "cell_type": "code",
   "execution_count": 75,
   "metadata": {
    "slideshow": {
     "slide_type": "fragment"
    }
   },
   "outputs": [
    {
     "name": "stdout",
     "output_type": "stream",
     "text": [
      "True: 4 Coat, Predicted: 0 T-shirt/top\n",
      "True: 9 Ankle boot, Predicted: 0 T-shirt/top\n",
      "True: 1 Trouser, Predicted: 1 Trouser\n",
      "True: 1 Trouser, Predicted: 5 Sandal\n",
      "True: 6 Shirt, Predicted: 5 Sandal\n",
      "True: 3 Dress, Predicted: 5 Sandal\n",
      "True: 3 Dress, Predicted: 0 T-shirt/top\n",
      "True: 5 Sandal, Predicted: 0 T-shirt/top\n",
      "True: 8 Bag, Predicted: 0 T-shirt/top\n",
      "True: 0 T-shirt/top, Predicted: 5 Sandal\n",
      "True: 6 Shirt, Predicted: 0 T-shirt/top\n",
      "True: 8 Bag, Predicted: 0 T-shirt/top\n"
     ]
    }
   ],
   "source": [
    "for batch in range(3):\n",
    "    images, labels = dataiter.next()\n",
    "    for i in range(len(images)):\n",
    "        outputs = forward(images[i])\n",
    "        h = np.argmax(outputs.detach().numpy())\n",
    "        y = labels[i]\n",
    "        print('True: %d %s, Predicted: %d %s' % (y, labels_text[y], h, labels_text[h]))"
   ]
  },
  {
   "cell_type": "markdown",
   "metadata": {
    "slideshow": {
     "slide_type": "slide"
    }
   },
   "source": [
    "Let's double check that our fully connected layer is simply doing $$y = w^T x + b$$"
   ]
  },
  {
   "cell_type": "code",
   "execution_count": 76,
   "metadata": {
    "slideshow": {
     "slide_type": "fragment"
    }
   },
   "outputs": [
    {
     "name": "stdout",
     "output_type": "stream",
     "text": [
      "Numpy:\n",
      " [ 0.26694435  0.15418431 -0.0801445  -0.37391877 -0.06608444  0.2804584\n",
      " -0.1528753  -0.07709439 -0.16068594 -0.05034055]\n",
      "PyTorch:\n",
      " [[ 0.26694432  0.15418431 -0.08014453 -0.37391874 -0.06608443  0.2804584\n",
      "  -0.15287529 -0.07709438 -0.16068594 -0.05034059]]\n"
     ]
    }
   ],
   "source": [
    "a = (np.matmul(images[1].view(-1, 784), np.transpose(fc.weight.detach().numpy())) + fc.bias)[0].detach().numpy()\n",
    "b = forward(images[1]).detach().numpy()\n",
    "print('Numpy:\\n', a)\n",
    "print('PyTorch:\\n', b)"
   ]
  },
  {
   "cell_type": "code",
   "execution_count": 77,
   "metadata": {
    "slideshow": {
     "slide_type": "fragment"
    }
   },
   "outputs": [
    {
     "name": "stdout",
     "output_type": "stream",
     "text": [
      "[[False  True False False False  True False False  True False]] difference:  5.3290705e-15\n"
     ]
    }
   ],
   "source": [
    "print(a == b, 'difference: ', np.sum((a-b)**2))"
   ]
  },
  {
   "cell_type": "markdown",
   "metadata": {
    "slideshow": {
     "slide_type": "fragment"
    }
   },
   "source": [
    "We have some slight errors due to floating point representation differences between PyTorch and numpy, but the calculation is the same!"
   ]
  },
  {
   "cell_type": "markdown",
   "metadata": {
    "slideshow": {
     "slide_type": "slide"
    }
   },
   "source": [
    "<div class=\"alert alert-success\">\n",
    "Exercise 3:\n",
    "    \n",
    "1. The following code produces different predictions every time. Why? Change it so that it always predicts the same response.\n",
    "2. Change the forward pass function to a network with the following fully connected layers: (784, 128), (128, 10). Test this network with random weights on some images.\n",
    "    \n",
    "</div>"
   ]
  },
  {
   "cell_type": "code",
   "execution_count": 78,
   "metadata": {
    "slideshow": {
     "slide_type": "fragment"
    }
   },
   "outputs": [
    {
     "name": "stdout",
     "output_type": "stream",
     "text": [
      "True: 8 Bag, Predicted: 9 Ankle boot\n",
      "True: 0 T-shirt/top, Predicted: 0 T-shirt/top\n",
      "True: 6 Shirt, Predicted: 8 Bag\n",
      "True: 8 Bag, Predicted: 7 Sneaker\n"
     ]
    }
   ],
   "source": [
    "def forward(x):\n",
    "    x = x.view(-1, 28 * 28)\n",
    "    x = nn.Linear(784,10)(x)\n",
    "    return x\n",
    "\n",
    "for i in range(len(images)):\n",
    "    outputs = forward(images[i])\n",
    "    h = np.argmax(outputs.detach().numpy())\n",
    "    y = labels[i]\n",
    "    print('True: %d %s, Predicted: %d %s' % (y, labels_text[y], h, labels_text[h]))"
   ]
  },
  {
   "cell_type": "code",
   "execution_count": 79,
   "metadata": {
    "slideshow": {
     "slide_type": "slide"
    }
   },
   "outputs": [],
   "source": [
    "# %load solutions/ex3_1.py"
   ]
  },
  {
   "cell_type": "code",
   "execution_count": 80,
   "metadata": {
    "slideshow": {
     "slide_type": "fragment"
    }
   },
   "outputs": [],
   "source": [
    "# %load solutions/ex3_2.py"
   ]
  },
  {
   "cell_type": "markdown",
   "metadata": {
    "slideshow": {
     "slide_type": "slide"
    }
   },
   "source": [
    "# <a id=\"sec3\">3. Backpropagation and training</a>"
   ]
  },
  {
   "cell_type": "markdown",
   "metadata": {
    "slideshow": {
     "slide_type": "fragment"
    }
   },
   "source": [
    "Explain tensors and gradients\n",
    "\n",
    "<img src=\"img/tensor.png\" width=\"50%\">\n",
    "\n"
   ]
  },
  {
   "cell_type": "code",
   "execution_count": 107,
   "metadata": {},
   "outputs": [],
   "source": []
  },
  {
   "cell_type": "code",
   "execution_count": 111,
   "metadata": {},
   "outputs": [
    {
     "data": {
      "text/plain": [
       "True"
      ]
     },
     "execution_count": 111,
     "metadata": {},
     "output_type": "execute_result"
    }
   ],
   "source": [
    "a = np.ones((2, 2))\n",
    "b = torch.ones(2, 2)\n",
    "np.all(b.numpy() == a)"
   ]
  },
  {
   "cell_type": "code",
   "execution_count": 119,
   "metadata": {},
   "outputs": [
    {
     "name": "stdout",
     "output_type": "stream",
     "text": [
      "x:  tensor([[1., 1.],\n",
      "        [1., 1.]], requires_grad=True)\n",
      "y:  tensor(1., grad_fn=<MeanBackward0>)\n",
      "dy/dx:  tensor([[0.5000, 0.5000],\n",
      "        [0.5000, 0.5000]])\n"
     ]
    }
   ],
   "source": [
    "x = torch.ones(2, 2, requires_grad=True)\n",
    "print('x: ', x)\n",
    "y = (x * x).mean()\n",
    "print('y: ', y)\n",
    "y.backward()\n",
    "print('dy/dx: ', x.grad)"
   ]
  },
  {
   "cell_type": "code",
   "execution_count": 100,
   "metadata": {},
   "outputs": [
    {
     "name": "stdout",
     "output_type": "stream",
     "text": [
      "x:  tensor([[1., 1.],\n",
      "        [1., 1.]], requires_grad=True)\n",
      "y:  tensor([[3., 3.],\n",
      "        [3., 3.]], grad_fn=<AddBackward0>)\n",
      "z:  tensor([[27., 27.],\n",
      "        [27., 27.]], grad_fn=<MulBackward0>)\n",
      "out:  tensor(27., grad_fn=<MeanBackward0>)\n"
     ]
    }
   ],
   "source": [
    "x = torch.ones(2, 2, requires_grad=True)\n",
    "print('x: ', x)\n",
    "y = x + 2\n",
    "print('y: ', y)\n",
    "z = y * y * 3\n",
    "print('z: ', z)\n",
    "out = z.mean()\n",
    "print('out: ', out)"
   ]
  },
  {
   "cell_type": "code",
   "execution_count": 101,
   "metadata": {},
   "outputs": [
    {
     "name": "stdout",
     "output_type": "stream",
     "text": [
      "tensor([[4.5000, 4.5000],\n",
      "        [4.5000, 4.5000]])\n"
     ]
    }
   ],
   "source": [
    "out.backward()\n",
    "print(x.grad)"
   ]
  },
  {
   "cell_type": "markdown",
   "metadata": {},
   "source": [
    "If you want to go further in detail about this, check out the [autograd tutorial](https://pytorch.org/tutorials/beginner/blitz/autograd_tutorial.html)."
   ]
  },
  {
   "cell_type": "code",
   "execution_count": 81,
   "metadata": {},
   "outputs": [],
   "source": [
    "class Net(nn.Module):\n",
    "    def __init__(self):\n",
    "        super(Net, self).__init__()\n",
    "        self.fc1 = nn.Linear(784, 120)\n",
    "        self.fc2 = nn.Linear(120, 10)\n",
    "\n",
    "    def forward(self, x):\n",
    "        x = x.view(-1, 784)\n",
    "        x = self.fc1(x)\n",
    "        x = self.fc2(x)\n",
    "        return x\n",
    "net = Net()"
   ]
  },
  {
   "cell_type": "markdown",
   "metadata": {
    "slideshow": {
     "slide_type": "slide"
    }
   },
   "source": [
    "One last thing before we train: we're calculting the gradients at every batch, not at every data point. This is an expensive gradient calculation, so let's reduce the number of times we do it by increasing the batch size. This has the benefit of reducing overfitting by computing the gradient over a large sample of images."
   ]
  },
  {
   "cell_type": "code",
   "execution_count": 82,
   "metadata": {},
   "outputs": [],
   "source": [
    "import torch.optim as optim\n",
    "\n",
    "def train(net):\n",
    "    trainloader = torch.utils.data.DataLoader(trainset, batch_size=128, shuffle=True, num_workers=2)\n",
    "    criterion = nn.MSELoss()\n",
    "    optimizer = optim.SGD(net.parameters(), lr=0.001, momentum=0.9)\n",
    "    total_loss = 0.0\n",
    "    for i, data in enumerate(trainloader, 0):\n",
    "        # get the inputs; data is a list of [inputs, labels]\n",
    "        inputs, labels = data\n",
    "\n",
    "        # zero the parameter gradients\n",
    "        optimizer.zero_grad()\n",
    "\n",
    "        # forward + backward + optimize\n",
    "        outputs = net(inputs)\n",
    "        loss = criterion(outputs, labels)\n",
    "        loss.backward()\n",
    "        optimizer.step()\n",
    "\n",
    "        # print statistics\n",
    "        total_loss += loss.item()\n",
    "        if i > 10000:\n",
    "            break\n",
    "    return total_loss"
   ]
  },
  {
   "cell_type": "code",
   "execution_count": 83,
   "metadata": {},
   "outputs": [
    {
     "name": "stderr",
     "output_type": "stream",
     "text": [
      "/home/d9w/.venvs/37/lib/python3.7/site-packages/torch/nn/modules/loss.py:431: UserWarning: Using a target size (torch.Size([128])) that is different to the input size (torch.Size([128, 10])). This will likely lead to incorrect results due to broadcasting. Please ensure they have the same size.\n",
      "  return F.mse_loss(input, target, reduction=self.reduction)\n"
     ]
    },
    {
     "ename": "RuntimeError",
     "evalue": "The size of tensor a (10) must match the size of tensor b (128) at non-singleton dimension 1",
     "output_type": "error",
     "traceback": [
      "\u001b[0;31m---------------------------------------------------------------------------\u001b[0m",
      "\u001b[0;31mRuntimeError\u001b[0m                              Traceback (most recent call last)",
      "\u001b[0;32m<timed exec>\u001b[0m in \u001b[0;36m<module>\u001b[0;34m\u001b[0m\n",
      "\u001b[0;32m<ipython-input-82-334aa9ebc80f>\u001b[0m in \u001b[0;36mtrain\u001b[0;34m(net)\u001b[0m\n\u001b[1;32m     15\u001b[0m         \u001b[0;31m# forward + backward + optimize\u001b[0m\u001b[0;34m\u001b[0m\u001b[0;34m\u001b[0m\u001b[0;34m\u001b[0m\u001b[0m\n\u001b[1;32m     16\u001b[0m         \u001b[0moutputs\u001b[0m \u001b[0;34m=\u001b[0m \u001b[0mnet\u001b[0m\u001b[0;34m(\u001b[0m\u001b[0minputs\u001b[0m\u001b[0;34m)\u001b[0m\u001b[0;34m\u001b[0m\u001b[0;34m\u001b[0m\u001b[0m\n\u001b[0;32m---> 17\u001b[0;31m         \u001b[0mloss\u001b[0m \u001b[0;34m=\u001b[0m \u001b[0mcriterion\u001b[0m\u001b[0;34m(\u001b[0m\u001b[0moutputs\u001b[0m\u001b[0;34m,\u001b[0m \u001b[0mlabels\u001b[0m\u001b[0;34m)\u001b[0m\u001b[0;34m\u001b[0m\u001b[0;34m\u001b[0m\u001b[0m\n\u001b[0m\u001b[1;32m     18\u001b[0m         \u001b[0mloss\u001b[0m\u001b[0;34m.\u001b[0m\u001b[0mbackward\u001b[0m\u001b[0;34m(\u001b[0m\u001b[0;34m)\u001b[0m\u001b[0;34m\u001b[0m\u001b[0;34m\u001b[0m\u001b[0m\n\u001b[1;32m     19\u001b[0m         \u001b[0moptimizer\u001b[0m\u001b[0;34m.\u001b[0m\u001b[0mstep\u001b[0m\u001b[0;34m(\u001b[0m\u001b[0;34m)\u001b[0m\u001b[0;34m\u001b[0m\u001b[0;34m\u001b[0m\u001b[0m\n",
      "\u001b[0;32m~/.venvs/37/lib/python3.7/site-packages/torch/nn/modules/module.py\u001b[0m in \u001b[0;36m__call__\u001b[0;34m(self, *input, **kwargs)\u001b[0m\n\u001b[1;32m    539\u001b[0m             \u001b[0mresult\u001b[0m \u001b[0;34m=\u001b[0m \u001b[0mself\u001b[0m\u001b[0;34m.\u001b[0m\u001b[0m_slow_forward\u001b[0m\u001b[0;34m(\u001b[0m\u001b[0;34m*\u001b[0m\u001b[0minput\u001b[0m\u001b[0;34m,\u001b[0m \u001b[0;34m**\u001b[0m\u001b[0mkwargs\u001b[0m\u001b[0;34m)\u001b[0m\u001b[0;34m\u001b[0m\u001b[0;34m\u001b[0m\u001b[0m\n\u001b[1;32m    540\u001b[0m         \u001b[0;32melse\u001b[0m\u001b[0;34m:\u001b[0m\u001b[0;34m\u001b[0m\u001b[0;34m\u001b[0m\u001b[0m\n\u001b[0;32m--> 541\u001b[0;31m             \u001b[0mresult\u001b[0m \u001b[0;34m=\u001b[0m \u001b[0mself\u001b[0m\u001b[0;34m.\u001b[0m\u001b[0mforward\u001b[0m\u001b[0;34m(\u001b[0m\u001b[0;34m*\u001b[0m\u001b[0minput\u001b[0m\u001b[0;34m,\u001b[0m \u001b[0;34m**\u001b[0m\u001b[0mkwargs\u001b[0m\u001b[0;34m)\u001b[0m\u001b[0;34m\u001b[0m\u001b[0;34m\u001b[0m\u001b[0m\n\u001b[0m\u001b[1;32m    542\u001b[0m         \u001b[0;32mfor\u001b[0m \u001b[0mhook\u001b[0m \u001b[0;32min\u001b[0m \u001b[0mself\u001b[0m\u001b[0;34m.\u001b[0m\u001b[0m_forward_hooks\u001b[0m\u001b[0;34m.\u001b[0m\u001b[0mvalues\u001b[0m\u001b[0;34m(\u001b[0m\u001b[0;34m)\u001b[0m\u001b[0;34m:\u001b[0m\u001b[0;34m\u001b[0m\u001b[0;34m\u001b[0m\u001b[0m\n\u001b[1;32m    543\u001b[0m             \u001b[0mhook_result\u001b[0m \u001b[0;34m=\u001b[0m \u001b[0mhook\u001b[0m\u001b[0;34m(\u001b[0m\u001b[0mself\u001b[0m\u001b[0;34m,\u001b[0m \u001b[0minput\u001b[0m\u001b[0;34m,\u001b[0m \u001b[0mresult\u001b[0m\u001b[0;34m)\u001b[0m\u001b[0;34m\u001b[0m\u001b[0;34m\u001b[0m\u001b[0m\n",
      "\u001b[0;32m~/.venvs/37/lib/python3.7/site-packages/torch/nn/modules/loss.py\u001b[0m in \u001b[0;36mforward\u001b[0;34m(self, input, target)\u001b[0m\n\u001b[1;32m    429\u001b[0m \u001b[0;34m\u001b[0m\u001b[0m\n\u001b[1;32m    430\u001b[0m     \u001b[0;32mdef\u001b[0m \u001b[0mforward\u001b[0m\u001b[0;34m(\u001b[0m\u001b[0mself\u001b[0m\u001b[0;34m,\u001b[0m \u001b[0minput\u001b[0m\u001b[0;34m,\u001b[0m \u001b[0mtarget\u001b[0m\u001b[0;34m)\u001b[0m\u001b[0;34m:\u001b[0m\u001b[0;34m\u001b[0m\u001b[0;34m\u001b[0m\u001b[0m\n\u001b[0;32m--> 431\u001b[0;31m         \u001b[0;32mreturn\u001b[0m \u001b[0mF\u001b[0m\u001b[0;34m.\u001b[0m\u001b[0mmse_loss\u001b[0m\u001b[0;34m(\u001b[0m\u001b[0minput\u001b[0m\u001b[0;34m,\u001b[0m \u001b[0mtarget\u001b[0m\u001b[0;34m,\u001b[0m \u001b[0mreduction\u001b[0m\u001b[0;34m=\u001b[0m\u001b[0mself\u001b[0m\u001b[0;34m.\u001b[0m\u001b[0mreduction\u001b[0m\u001b[0;34m)\u001b[0m\u001b[0;34m\u001b[0m\u001b[0;34m\u001b[0m\u001b[0m\n\u001b[0m\u001b[1;32m    432\u001b[0m \u001b[0;34m\u001b[0m\u001b[0m\n\u001b[1;32m    433\u001b[0m \u001b[0;34m\u001b[0m\u001b[0m\n",
      "\u001b[0;32m~/.venvs/37/lib/python3.7/site-packages/torch/nn/functional.py\u001b[0m in \u001b[0;36mmse_loss\u001b[0;34m(input, target, size_average, reduce, reduction)\u001b[0m\n\u001b[1;32m   2201\u001b[0m             \u001b[0mret\u001b[0m \u001b[0;34m=\u001b[0m \u001b[0mtorch\u001b[0m\u001b[0;34m.\u001b[0m\u001b[0mmean\u001b[0m\u001b[0;34m(\u001b[0m\u001b[0mret\u001b[0m\u001b[0;34m)\u001b[0m \u001b[0;32mif\u001b[0m \u001b[0mreduction\u001b[0m \u001b[0;34m==\u001b[0m \u001b[0;34m'mean'\u001b[0m \u001b[0;32melse\u001b[0m \u001b[0mtorch\u001b[0m\u001b[0;34m.\u001b[0m\u001b[0msum\u001b[0m\u001b[0;34m(\u001b[0m\u001b[0mret\u001b[0m\u001b[0;34m)\u001b[0m\u001b[0;34m\u001b[0m\u001b[0;34m\u001b[0m\u001b[0m\n\u001b[1;32m   2202\u001b[0m     \u001b[0;32melse\u001b[0m\u001b[0;34m:\u001b[0m\u001b[0;34m\u001b[0m\u001b[0;34m\u001b[0m\u001b[0m\n\u001b[0;32m-> 2203\u001b[0;31m         \u001b[0mexpanded_input\u001b[0m\u001b[0;34m,\u001b[0m \u001b[0mexpanded_target\u001b[0m \u001b[0;34m=\u001b[0m \u001b[0mtorch\u001b[0m\u001b[0;34m.\u001b[0m\u001b[0mbroadcast_tensors\u001b[0m\u001b[0;34m(\u001b[0m\u001b[0minput\u001b[0m\u001b[0;34m,\u001b[0m \u001b[0mtarget\u001b[0m\u001b[0;34m)\u001b[0m\u001b[0;34m\u001b[0m\u001b[0;34m\u001b[0m\u001b[0m\n\u001b[0m\u001b[1;32m   2204\u001b[0m         \u001b[0mret\u001b[0m \u001b[0;34m=\u001b[0m \u001b[0mtorch\u001b[0m\u001b[0;34m.\u001b[0m\u001b[0m_C\u001b[0m\u001b[0;34m.\u001b[0m\u001b[0m_nn\u001b[0m\u001b[0;34m.\u001b[0m\u001b[0mmse_loss\u001b[0m\u001b[0;34m(\u001b[0m\u001b[0mexpanded_input\u001b[0m\u001b[0;34m,\u001b[0m \u001b[0mexpanded_target\u001b[0m\u001b[0;34m,\u001b[0m \u001b[0m_Reduction\u001b[0m\u001b[0;34m.\u001b[0m\u001b[0mget_enum\u001b[0m\u001b[0;34m(\u001b[0m\u001b[0mreduction\u001b[0m\u001b[0;34m)\u001b[0m\u001b[0;34m)\u001b[0m\u001b[0;34m\u001b[0m\u001b[0;34m\u001b[0m\u001b[0m\n\u001b[1;32m   2205\u001b[0m     \u001b[0;32mreturn\u001b[0m \u001b[0mret\u001b[0m\u001b[0;34m\u001b[0m\u001b[0;34m\u001b[0m\u001b[0m\n",
      "\u001b[0;32m~/.venvs/37/lib/python3.7/site-packages/torch/functional.py\u001b[0m in \u001b[0;36mbroadcast_tensors\u001b[0;34m(*tensors)\u001b[0m\n\u001b[1;32m     50\u001b[0m                 [0, 1, 2]])\n\u001b[1;32m     51\u001b[0m     \"\"\"\n\u001b[0;32m---> 52\u001b[0;31m     \u001b[0;32mreturn\u001b[0m \u001b[0mtorch\u001b[0m\u001b[0;34m.\u001b[0m\u001b[0m_C\u001b[0m\u001b[0;34m.\u001b[0m\u001b[0m_VariableFunctions\u001b[0m\u001b[0;34m.\u001b[0m\u001b[0mbroadcast_tensors\u001b[0m\u001b[0;34m(\u001b[0m\u001b[0mtensors\u001b[0m\u001b[0;34m)\u001b[0m\u001b[0;34m\u001b[0m\u001b[0;34m\u001b[0m\u001b[0m\n\u001b[0m\u001b[1;32m     53\u001b[0m \u001b[0;34m\u001b[0m\u001b[0m\n\u001b[1;32m     54\u001b[0m \u001b[0;34m\u001b[0m\u001b[0m\n",
      "\u001b[0;31mRuntimeError\u001b[0m: The size of tensor a (10) must match the size of tensor b (128) at non-singleton dimension 1"
     ]
    },
    {
     "name": "stdout",
     "output_type": "stream",
     "text": [
      "1054.8911006450653\n"
     ]
    }
   ],
   "source": [
    "%time total_loss = train(net)\n",
    "print(total_loss)"
   ]
  },
  {
   "cell_type": "code",
   "execution_count": 84,
   "metadata": {},
   "outputs": [],
   "source": [
    "def get_test_predictions(net):\n",
    "    testloader = torch.utils.data.DataLoader(testset, batch_size=4, shuffle=False)\n",
    "    all_labels = np.array([])\n",
    "    predictions = np.array([])\n",
    "    with torch.no_grad():\n",
    "        for data in testloader:\n",
    "            images, labels = data\n",
    "            outputs = net(images)\n",
    "            _, predicted = torch.max(outputs.data, 1)\n",
    "            all_labels = np.append(all_labels, labels.numpy())\n",
    "            predictions = np.append(predictions, predicted.numpy())\n",
    "    return all_labels, predictions"
   ]
  },
  {
   "cell_type": "code",
   "execution_count": 85,
   "metadata": {},
   "outputs": [],
   "source": [
    "y_test, predictions = get_test_predictions(net)"
   ]
  },
  {
   "cell_type": "code",
   "execution_count": 86,
   "metadata": {},
   "outputs": [
    {
     "name": "stdout",
     "output_type": "stream",
     "text": [
      "Accuracy: \n",
      "0.1008\n",
      "              precision    recall  f1-score   support\n",
      "\n",
      " T-shirt/top       0.01      0.01      0.01       851\n",
      "     Trouser       0.05      0.06      0.06       931\n",
      "    Pullover       0.00      0.00      0.00         0\n",
      "       Dress       0.00      0.00      0.00         8\n",
      "        Coat       0.16      0.20      0.18       808\n",
      "      Sandal       0.39      0.08      0.13      5051\n",
      "       Shirt       0.00      0.00      0.00         6\n",
      "     Sneaker       0.00      0.00      0.00         0\n",
      "         Bag       0.39      0.19      0.25      2067\n",
      "  Ankle boot       0.01      0.02      0.01       278\n",
      "\n",
      "    accuracy                           0.10     10000\n",
      "   macro avg       0.10      0.06      0.06     10000\n",
      "weighted avg       0.30      0.10      0.14     10000\n",
      "\n"
     ]
    }
   ],
   "source": [
    "from sklearn.metrics import accuracy_score, classification_report\n",
    "\n",
    "print(\"Accuracy: \")\n",
    "print(accuracy_score(predictions, y_test))\n",
    "print(classification_report(predictions, y_test, target_names=labels_text))"
   ]
  },
  {
   "cell_type": "markdown",
   "metadata": {
    "slideshow": {
     "slide_type": "slide"
    }
   },
   "source": [
    "# Activation Functions"
   ]
  },
  {
   "cell_type": "markdown",
   "metadata": {
    "slideshow": {
     "slide_type": "fragment"
    }
   },
   "source": [
    "So far, our network is a chain of $$ Y = w^T x+b $$ However, last class we used the sigmoid activation function to do $$ Y = \\sigma(w^T x+b) $$ Let's apply this to our current network and see how it changes training. Torch has two ways to do this: define a `torch.nn.Sigmoid` layer or apply the `torch.nn.functional.sigmoid` function (`torch.sigmoid` in future versions). We'll use the functional method."
   ]
  },
  {
   "cell_type": "code",
   "execution_count": 87,
   "metadata": {
    "slideshow": {
     "slide_type": "slide"
    }
   },
   "outputs": [],
   "source": [
    "import torch.nn as nn\n",
    "import torch.nn.functional as F\n",
    "\n",
    "class Net(nn.Module):\n",
    "    def __init__(self):\n",
    "        super(Net, self).__init__()\n",
    "        self.fc1 = nn.Linear(784, 120)\n",
    "        self.fc2 = nn.Linear(120, 10)\n",
    "\n",
    "    def forward(self, x):\n",
    "        x = x.view(-1, 784)\n",
    "        x = F.sigmoid(self.fc1(x))\n",
    "        x = F.sigmoid(self.fc2(x))\n",
    "        return x\n",
    "\n",
    "net = Net()"
   ]
  },
  {
   "cell_type": "code",
   "execution_count": 88,
   "metadata": {},
   "outputs": [
    {
     "ename": "RuntimeError",
     "evalue": "The size of tensor a (10) must match the size of tensor b (128) at non-singleton dimension 1",
     "output_type": "error",
     "traceback": [
      "\u001b[0;31m---------------------------------------------------------------------------\u001b[0m",
      "\u001b[0;31mRuntimeError\u001b[0m                              Traceback (most recent call last)",
      "\u001b[0;32m<ipython-input-88-2f529911918c>\u001b[0m in \u001b[0;36m<module>\u001b[0;34m\u001b[0m\n\u001b[0;32m----> 1\u001b[0;31m \u001b[0mtrain\u001b[0m\u001b[0;34m(\u001b[0m\u001b[0mnet\u001b[0m\u001b[0;34m)\u001b[0m\u001b[0;34m\u001b[0m\u001b[0;34m\u001b[0m\u001b[0m\n\u001b[0m",
      "\u001b[0;32m<ipython-input-82-334aa9ebc80f>\u001b[0m in \u001b[0;36mtrain\u001b[0;34m(net)\u001b[0m\n\u001b[1;32m     15\u001b[0m         \u001b[0;31m# forward + backward + optimize\u001b[0m\u001b[0;34m\u001b[0m\u001b[0;34m\u001b[0m\u001b[0;34m\u001b[0m\u001b[0m\n\u001b[1;32m     16\u001b[0m         \u001b[0moutputs\u001b[0m \u001b[0;34m=\u001b[0m \u001b[0mnet\u001b[0m\u001b[0;34m(\u001b[0m\u001b[0minputs\u001b[0m\u001b[0;34m)\u001b[0m\u001b[0;34m\u001b[0m\u001b[0;34m\u001b[0m\u001b[0m\n\u001b[0;32m---> 17\u001b[0;31m         \u001b[0mloss\u001b[0m \u001b[0;34m=\u001b[0m \u001b[0mcriterion\u001b[0m\u001b[0;34m(\u001b[0m\u001b[0moutputs\u001b[0m\u001b[0;34m,\u001b[0m \u001b[0mlabels\u001b[0m\u001b[0;34m)\u001b[0m\u001b[0;34m\u001b[0m\u001b[0;34m\u001b[0m\u001b[0m\n\u001b[0m\u001b[1;32m     18\u001b[0m         \u001b[0mloss\u001b[0m\u001b[0;34m.\u001b[0m\u001b[0mbackward\u001b[0m\u001b[0;34m(\u001b[0m\u001b[0;34m)\u001b[0m\u001b[0;34m\u001b[0m\u001b[0;34m\u001b[0m\u001b[0m\n\u001b[1;32m     19\u001b[0m         \u001b[0moptimizer\u001b[0m\u001b[0;34m.\u001b[0m\u001b[0mstep\u001b[0m\u001b[0;34m(\u001b[0m\u001b[0;34m)\u001b[0m\u001b[0;34m\u001b[0m\u001b[0;34m\u001b[0m\u001b[0m\n",
      "\u001b[0;32m~/.venvs/37/lib/python3.7/site-packages/torch/nn/modules/module.py\u001b[0m in \u001b[0;36m__call__\u001b[0;34m(self, *input, **kwargs)\u001b[0m\n\u001b[1;32m    539\u001b[0m             \u001b[0mresult\u001b[0m \u001b[0;34m=\u001b[0m \u001b[0mself\u001b[0m\u001b[0;34m.\u001b[0m\u001b[0m_slow_forward\u001b[0m\u001b[0;34m(\u001b[0m\u001b[0;34m*\u001b[0m\u001b[0minput\u001b[0m\u001b[0;34m,\u001b[0m \u001b[0;34m**\u001b[0m\u001b[0mkwargs\u001b[0m\u001b[0;34m)\u001b[0m\u001b[0;34m\u001b[0m\u001b[0;34m\u001b[0m\u001b[0m\n\u001b[1;32m    540\u001b[0m         \u001b[0;32melse\u001b[0m\u001b[0;34m:\u001b[0m\u001b[0;34m\u001b[0m\u001b[0;34m\u001b[0m\u001b[0m\n\u001b[0;32m--> 541\u001b[0;31m             \u001b[0mresult\u001b[0m \u001b[0;34m=\u001b[0m \u001b[0mself\u001b[0m\u001b[0;34m.\u001b[0m\u001b[0mforward\u001b[0m\u001b[0;34m(\u001b[0m\u001b[0;34m*\u001b[0m\u001b[0minput\u001b[0m\u001b[0;34m,\u001b[0m \u001b[0;34m**\u001b[0m\u001b[0mkwargs\u001b[0m\u001b[0;34m)\u001b[0m\u001b[0;34m\u001b[0m\u001b[0;34m\u001b[0m\u001b[0m\n\u001b[0m\u001b[1;32m    542\u001b[0m         \u001b[0;32mfor\u001b[0m \u001b[0mhook\u001b[0m \u001b[0;32min\u001b[0m \u001b[0mself\u001b[0m\u001b[0;34m.\u001b[0m\u001b[0m_forward_hooks\u001b[0m\u001b[0;34m.\u001b[0m\u001b[0mvalues\u001b[0m\u001b[0;34m(\u001b[0m\u001b[0;34m)\u001b[0m\u001b[0;34m:\u001b[0m\u001b[0;34m\u001b[0m\u001b[0;34m\u001b[0m\u001b[0m\n\u001b[1;32m    543\u001b[0m             \u001b[0mhook_result\u001b[0m \u001b[0;34m=\u001b[0m \u001b[0mhook\u001b[0m\u001b[0;34m(\u001b[0m\u001b[0mself\u001b[0m\u001b[0;34m,\u001b[0m \u001b[0minput\u001b[0m\u001b[0;34m,\u001b[0m \u001b[0mresult\u001b[0m\u001b[0;34m)\u001b[0m\u001b[0;34m\u001b[0m\u001b[0;34m\u001b[0m\u001b[0m\n",
      "\u001b[0;32m~/.venvs/37/lib/python3.7/site-packages/torch/nn/modules/loss.py\u001b[0m in \u001b[0;36mforward\u001b[0;34m(self, input, target)\u001b[0m\n\u001b[1;32m    429\u001b[0m \u001b[0;34m\u001b[0m\u001b[0m\n\u001b[1;32m    430\u001b[0m     \u001b[0;32mdef\u001b[0m \u001b[0mforward\u001b[0m\u001b[0;34m(\u001b[0m\u001b[0mself\u001b[0m\u001b[0;34m,\u001b[0m \u001b[0minput\u001b[0m\u001b[0;34m,\u001b[0m \u001b[0mtarget\u001b[0m\u001b[0;34m)\u001b[0m\u001b[0;34m:\u001b[0m\u001b[0;34m\u001b[0m\u001b[0;34m\u001b[0m\u001b[0m\n\u001b[0;32m--> 431\u001b[0;31m         \u001b[0;32mreturn\u001b[0m \u001b[0mF\u001b[0m\u001b[0;34m.\u001b[0m\u001b[0mmse_loss\u001b[0m\u001b[0;34m(\u001b[0m\u001b[0minput\u001b[0m\u001b[0;34m,\u001b[0m \u001b[0mtarget\u001b[0m\u001b[0;34m,\u001b[0m \u001b[0mreduction\u001b[0m\u001b[0;34m=\u001b[0m\u001b[0mself\u001b[0m\u001b[0;34m.\u001b[0m\u001b[0mreduction\u001b[0m\u001b[0;34m)\u001b[0m\u001b[0;34m\u001b[0m\u001b[0;34m\u001b[0m\u001b[0m\n\u001b[0m\u001b[1;32m    432\u001b[0m \u001b[0;34m\u001b[0m\u001b[0m\n\u001b[1;32m    433\u001b[0m \u001b[0;34m\u001b[0m\u001b[0m\n",
      "\u001b[0;32m~/.venvs/37/lib/python3.7/site-packages/torch/nn/functional.py\u001b[0m in \u001b[0;36mmse_loss\u001b[0;34m(input, target, size_average, reduce, reduction)\u001b[0m\n\u001b[1;32m   2201\u001b[0m             \u001b[0mret\u001b[0m \u001b[0;34m=\u001b[0m \u001b[0mtorch\u001b[0m\u001b[0;34m.\u001b[0m\u001b[0mmean\u001b[0m\u001b[0;34m(\u001b[0m\u001b[0mret\u001b[0m\u001b[0;34m)\u001b[0m \u001b[0;32mif\u001b[0m \u001b[0mreduction\u001b[0m \u001b[0;34m==\u001b[0m \u001b[0;34m'mean'\u001b[0m \u001b[0;32melse\u001b[0m \u001b[0mtorch\u001b[0m\u001b[0;34m.\u001b[0m\u001b[0msum\u001b[0m\u001b[0;34m(\u001b[0m\u001b[0mret\u001b[0m\u001b[0;34m)\u001b[0m\u001b[0;34m\u001b[0m\u001b[0;34m\u001b[0m\u001b[0m\n\u001b[1;32m   2202\u001b[0m     \u001b[0;32melse\u001b[0m\u001b[0;34m:\u001b[0m\u001b[0;34m\u001b[0m\u001b[0;34m\u001b[0m\u001b[0m\n\u001b[0;32m-> 2203\u001b[0;31m         \u001b[0mexpanded_input\u001b[0m\u001b[0;34m,\u001b[0m \u001b[0mexpanded_target\u001b[0m \u001b[0;34m=\u001b[0m \u001b[0mtorch\u001b[0m\u001b[0;34m.\u001b[0m\u001b[0mbroadcast_tensors\u001b[0m\u001b[0;34m(\u001b[0m\u001b[0minput\u001b[0m\u001b[0;34m,\u001b[0m \u001b[0mtarget\u001b[0m\u001b[0;34m)\u001b[0m\u001b[0;34m\u001b[0m\u001b[0;34m\u001b[0m\u001b[0m\n\u001b[0m\u001b[1;32m   2204\u001b[0m         \u001b[0mret\u001b[0m \u001b[0;34m=\u001b[0m \u001b[0mtorch\u001b[0m\u001b[0;34m.\u001b[0m\u001b[0m_C\u001b[0m\u001b[0;34m.\u001b[0m\u001b[0m_nn\u001b[0m\u001b[0;34m.\u001b[0m\u001b[0mmse_loss\u001b[0m\u001b[0;34m(\u001b[0m\u001b[0mexpanded_input\u001b[0m\u001b[0;34m,\u001b[0m \u001b[0mexpanded_target\u001b[0m\u001b[0;34m,\u001b[0m \u001b[0m_Reduction\u001b[0m\u001b[0;34m.\u001b[0m\u001b[0mget_enum\u001b[0m\u001b[0;34m(\u001b[0m\u001b[0mreduction\u001b[0m\u001b[0;34m)\u001b[0m\u001b[0;34m)\u001b[0m\u001b[0;34m\u001b[0m\u001b[0;34m\u001b[0m\u001b[0m\n\u001b[1;32m   2205\u001b[0m     \u001b[0;32mreturn\u001b[0m \u001b[0mret\u001b[0m\u001b[0;34m\u001b[0m\u001b[0;34m\u001b[0m\u001b[0m\n",
      "\u001b[0;32m~/.venvs/37/lib/python3.7/site-packages/torch/functional.py\u001b[0m in \u001b[0;36mbroadcast_tensors\u001b[0;34m(*tensors)\u001b[0m\n\u001b[1;32m     50\u001b[0m                 [0, 1, 2]])\n\u001b[1;32m     51\u001b[0m     \"\"\"\n\u001b[0;32m---> 52\u001b[0;31m     \u001b[0;32mreturn\u001b[0m \u001b[0mtorch\u001b[0m\u001b[0;34m.\u001b[0m\u001b[0m_C\u001b[0m\u001b[0;34m.\u001b[0m\u001b[0m_VariableFunctions\u001b[0m\u001b[0;34m.\u001b[0m\u001b[0mbroadcast_tensors\u001b[0m\u001b[0;34m(\u001b[0m\u001b[0mtensors\u001b[0m\u001b[0;34m)\u001b[0m\u001b[0;34m\u001b[0m\u001b[0;34m\u001b[0m\u001b[0m\n\u001b[0m\u001b[1;32m     53\u001b[0m \u001b[0;34m\u001b[0m\u001b[0m\n\u001b[1;32m     54\u001b[0m \u001b[0;34m\u001b[0m\u001b[0m\n",
      "\u001b[0;31mRuntimeError\u001b[0m: The size of tensor a (10) must match the size of tensor b (128) at non-singleton dimension 1"
     ]
    }
   ],
   "source": [
    "train(net)"
   ]
  },
  {
   "cell_type": "code",
   "execution_count": null,
   "metadata": {},
   "outputs": [],
   "source": [
    "y_test, predictions = get_test_predictions(net)\n",
    "print(\"Accuracy: \")\n",
    "print(accuracy_score(predictions, y_test))\n",
    "print(classification_report(predictions, y_test, target_names=labels_text))"
   ]
  },
  {
   "cell_type": "markdown",
   "metadata": {},
   "source": [
    "## Softmax layers\n",
    "\n",
    "For classification problems using one-hot encoding, our output \n",
    "\n",
    "$$\\texttt{softmax}(x_i) = \\frac{exp(x_i)}{\\sum_{j}exp(x_j)}$$\n",
    "\n",
    "In torch, the ReLU activation function is either a layer `torch.nn.Softmax` or a function in `torch.nn.functional.softmax`."
   ]
  },
  {
   "cell_type": "markdown",
   "metadata": {
    "slideshow": {
     "slide_type": "slide"
    }
   },
   "source": [
    "## ReLU: Solving vanishing gradients\n",
    "\n",
    "Recall the shape of the sigmoid activation function?"
   ]
  },
  {
   "cell_type": "code",
   "execution_count": null,
   "metadata": {
    "ExecuteTime": {
     "end_time": "2018-11-07T13:22:28.428973Z",
     "start_time": "2018-11-07T13:22:28.270744Z"
    },
    "slideshow": {
     "slide_type": "fragment"
    }
   },
   "outputs": [],
   "source": [
    "def sigmoid(x):\n",
    "    return 1./(1. + np.exp(-x))\n",
    "\n",
    "XX = np.arange(-5,5.,0.1)\n",
    "plt.plot(XX,sigmoid(XX));"
   ]
  },
  {
   "cell_type": "markdown",
   "metadata": {
    "slideshow": {
     "slide_type": "slide"
    }
   },
   "source": [
    "Let's plot the gradient of this function."
   ]
  },
  {
   "cell_type": "code",
   "execution_count": null,
   "metadata": {
    "ExecuteTime": {
     "end_time": "2018-11-07T13:22:31.911109Z",
     "start_time": "2018-11-07T13:22:31.786515Z"
    },
    "slideshow": {
     "slide_type": "fragment"
    }
   },
   "outputs": [],
   "source": [
    "def sigmoid_der(x):\n",
    "    y = sigmoid(x)\n",
    "    return y*(1.-y)\n",
    "\n",
    "XX = np.arange(-5,5.,0.1)\n",
    "plt.plot(XX,sigmoid(XX));\n",
    "plt.plot(XX,sigmoid_der(XX));"
   ]
  },
  {
   "cell_type": "markdown",
   "metadata": {
    "slideshow": {
     "slide_type": "slide"
    }
   },
   "source": [
    "Do you remember that during backpropagation, the $\\delta_j$ were recursively obtained by:\n",
    "$$\\delta_j = \\sigma'(y_j) \\sum_{l\\in L_j} \\delta_l w_{jl}$$\n",
    "\n",
    "This poses a major problem when the networks become deeper: at each layer, we multiply our gradients by $\\sigma'(y_j)$ which is much smaller than 1. So the gradient we want to back-propagate shrinks to zero and all our weight updates become zero.\n",
    "\n",
    "This is called the **vanishing gradient** problem.\n",
    "\n",
    "To avoid this problem, we introduce a new type of activation function: the Rectified Linear Unit (ReLU).\n",
    "$$\\sigma(y) = \\max\\{0,y\\}$$\n",
    "\n",
    "The key property of this function is that its derivative is either zero or one."
   ]
  },
  {
   "cell_type": "code",
   "execution_count": null,
   "metadata": {
    "ExecuteTime": {
     "end_time": "2018-11-07T13:22:34.779670Z",
     "start_time": "2018-11-07T13:22:34.661690Z"
    },
    "slideshow": {
     "slide_type": "fragment"
    }
   },
   "outputs": [],
   "source": [
    "def relu(x):\n",
    "    return np.maximum(0.,x)\n",
    "def relu_der(x):\n",
    "    return relu(x) > 0\n",
    "\n",
    "plt.plot(XX,relu(XX));\n",
    "plt.plot(XX,relu_der(XX));"
   ]
  },
  {
   "cell_type": "markdown",
   "metadata": {},
   "source": [
    "**Caveat of using ReLU activation functions**\n",
    "\n",
    "Although they allow us to train deep networks, ReLU functions have their downsides.\n",
    "- Unbounded values: the output of a layer is not bounded anymore, causing possible divergence.\n",
    "- Dying ReLU neurons: the backpropagation of gradients can push the input weigths towards values such that $\\sigma(y)=0$ all the time. Then all future backpropagations will leave these weights unchanged: the neuron is dead.\n",
    "\n",
    "Some advanced methods can compensate these weaknesses but are out of the scope of this introduction.\n",
    "\n",
    "In torch, the ReLU activation function is either a layer `torch.nn.ReLU` or a function in `torch.nn.functional.relu`."
   ]
  },
  {
   "cell_type": "markdown",
   "metadata": {},
   "source": [
    "<div class=\"alert alert-success\">\n",
    "Exercise 5: Change your network to use ReLU activation for the hidden layer and a softmax as the output layer. Try changing layer sizes and activations to get a higher accuracy.\n",
    "</div>"
   ]
  },
  {
   "cell_type": "code",
   "execution_count": null,
   "metadata": {},
   "outputs": [],
   "source": [
    "class Net(nn.Module):\n",
    "    def __init__(self):\n",
    "        super(Net, self).__init__()\n",
    "        self.fc1 = nn.Linear(784, 120)\n",
    "        self.fc2 = nn.Linear(120, 10)\n",
    "\n",
    "    def forward(self, x):\n",
    "        x = x.view(-1, 784)\n",
    "        x = F.relu(self.fc1(x))\n",
    "        x = F.softmax(self.fc2(x))\n",
    "        return x\n",
    "\n",
    "net = Net()\n",
    "train(net)\n",
    "y_test, predictions = get_test_predictions(net)\n",
    "print(\"Accuracy: \")\n",
    "print(accuracy_score(predictions, y_test))\n",
    "print(classification_report(predictions, y_test, target_names=labels_text))"
   ]
  },
  {
   "cell_type": "markdown",
   "metadata": {
    "slideshow": {
     "slide_type": "slide"
    }
   },
   "source": [
    "# Convolution and Pooling"
   ]
  },
  {
   "cell_type": "markdown",
   "metadata": {
    "slideshow": {
     "slide_type": "slide"
    }
   },
   "source": [
    "# Overfitting"
   ]
  },
  {
   "cell_type": "markdown",
   "metadata": {
    "slideshow": {
     "slide_type": "slide"
    }
   },
   "source": [
    "# Improving Optimization"
   ]
  },
  {
   "cell_type": "markdown",
   "metadata": {
    "slideshow": {
     "slide_type": "slide"
    }
   },
   "source": [
    "# Neural Architectures"
   ]
  },
  {
   "cell_type": "markdown",
   "metadata": {},
   "source": [
    "# Why go deep?\n",
    "-> represent more complex functions with few neurons\n",
    "\n",
    "example : \n",
    "(A and B) or (C and D)\n",
    "it is more natural to have two hidden layers than to use lots of neurons on a single one.\n",
    "\n",
    "Implement these two layers (no training) with Pytorch networks\n",
    "\n",
    "# The problem with Deep Networks\n",
    "\n",
    "Hard to train more than a few layers:\n",
    "- lots of parameters require computing power\n",
    "-> but highly paralellizable (especially on GPUs) and recent advances in hardware made it possible.\n",
    "- vanishing gradients\n",
    "-> let's force the gradient to be 1 => ReLU => but still the problem of vanishing of the \"0\" part (dying ReLUs) and the \"sum\" term in the update can cause divergence. That's the price to pay.\n",
    "\n",
    "Ex: implement a 5 hidden layers NN in pytorch.\n",
    "What data?\n",
    "\n",
    "# Avoiding overfitting\n",
    "\n",
    "Early stopping\n",
    "Dropout\n",
    "Regularization\n",
    "Data augmentation\n",
    "\n",
    "Ex: add dropout (or regularization) in the previous network.\n",
    "\n",
    "# Can we have better convergence?\n",
    "\n",
    "From SGD to ADAM.\n",
    "\n",
    "# Detecting local features in spatially-distributed data: convolutions\n",
    "\n",
    "# Going deeper: skip connections to preserve information flow\n",
    "\n",
    "Going progressively deeper : AlexNet (5 conv layers), VGG (16 or 19 conv), Inception (22), ResNet (up to 1001).\n",
    "\n",
    "\n"
   ]
  },
  {
   "cell_type": "markdown",
   "metadata": {},
   "source": [
    "# 1. <a id=\"sec1\"></a>Neural network training with [Keras](https://keras.io/)\n",
    "\n",
    "The following parts are strongly inspired by this [tutorial](https://github.com/Matt3164/Fashion_Keras).\n",
    "\n",
    "There are many good Neural Networks libraries on the net. Among the most reknowned are Tensorflow, Theano, Pytorch or Caffe.\n",
    "\n",
    "Keras is a minimalist, modular neural network library that can use either Theano or TensorFlow as a backend. The primary motivation behind Keras is that you should be able to experiment fast and go from idea to result as quickly as possible. Thus, Keras is perfect for training purposes and tutorials for beginners. Building networks in Keras feels easy and natural. It includes some of the latest state-of-the-art algorithms for optimizers (Adam, RMSProp), normalization (BatchNorm), and activation layers (PReLU, ELU, LeakyReLU). Although, Keras does not support multi-GPU environments for training a network in parallel.\n",
    "\n",
    "<img src=\"img/keras-logo-small.jpg\" width=\"200px\">"
   ]
  },
  {
   "cell_type": "markdown",
   "metadata": {},
   "source": [
    "# 2. <a id=\"sec2\"></a>The Fashion-MNIST dataset\n",
    "\n",
    "**New data!**\n",
    "\n",
    "Fashion-MNIST is a dataset of Zalando's article images—consisting of a training set of 60,000 examples and a test set of 10,000 examples. Each example is a 28x28 grayscale image, associated with a label from 10 classes. Fashion-MNIST is a direct drop-in replacement for the original MNIST dataset for benchmarking machine learning algorithms. It shares the same image size and structure of training and testing splits but is more complex.\n",
    "\n",
    "Here's an example of how the data looks like (each class takes three-rows):\n",
    "\n",
    "<img src=\"img/fashion-mnist-sprite.png\">\n",
    "\n",
    "You can find the official benchmark [here](https://github.com/zalandoresearch/fashion-mnist) but it does not contain deep learning performances. The performance on DL methods is expected to be between 90% and 95% on the test set according to the [community](https://medium.com/tensorist/classifying-fashion-articles-using-tensorflow-fashion-mnist-f22e8a04728a).\n",
    "\n",
    "**Let's load the data.**"
   ]
  },
  {
   "cell_type": "markdown",
   "metadata": {},
   "source": [
    "One nice thing is that Fashion MNIST has become part of the standard computer vision benchmarks and is included with most libraries, including Keras."
   ]
  },
  {
   "cell_type": "code",
   "execution_count": null,
   "metadata": {
    "ExecuteTime": {
     "end_time": "2018-11-07T13:18:23.492411Z",
     "start_time": "2018-11-07T13:18:22.067204Z"
    }
   },
   "outputs": [],
   "source": [
    "from keras.datasets import fashion_mnist\n",
    "\n",
    "(X_train, y_train), (X_test, y_test) = fashion_mnist.load_data()"
   ]
  },
  {
   "cell_type": "markdown",
   "metadata": {},
   "source": [
    "Alternatively, one can download the data directly. Uncomment and run the cell below if the one above didn't work for some reason."
   ]
  },
  {
   "cell_type": "code",
   "execution_count": null,
   "metadata": {
    "ExecuteTime": {
     "end_time": "2018-11-07T13:18:25.802406Z",
     "start_time": "2018-11-07T13:18:25.798086Z"
    }
   },
   "outputs": [],
   "source": [
    "#!mkdir -p data/fashion\n",
    "#!wget http://fashion-mnist.s3-website.eu-central-1.amazonaws.com/train-images-idx3-ubyte.gz\n",
    "#!wget http://fashion-mnist.s3-website.eu-central-1.amazonaws.com/train-labels-idx1-ubyte.gz\n",
    "#!wget http://fashion-mnist.s3-website.eu-central-1.amazonaws.com/t10k-images-idx3-ubyte.gz\n",
    "#!wget http://fashion-mnist.s3-website.eu-central-1.amazonaws.com/t10k-labels-idx1-ubyte.gz\n",
    "#!mv *.gz data/fashion/\n",
    "\n",
    "#from utils import mnist_reader\n",
    "#X_train, y_train = mnist_reader.load_mnist('data/fashion', kind='train')\n",
    "#X_test, y_test = mnist_reader.load_mnist('data/fashion', kind='t10k')"
   ]
  },
  {
   "cell_type": "code",
   "execution_count": null,
   "metadata": {
    "ExecuteTime": {
     "end_time": "2018-11-07T13:18:26.806824Z",
     "start_time": "2018-11-07T13:18:26.803297Z"
    }
   },
   "outputs": [],
   "source": [
    "print(\"Number of images for training: {}\".format(X_train.shape[0]))\n",
    "print(\"Image size: {}\".format(X_train.shape[1:]))\n",
    "print(\"Number of images for testing: {}\".format(X_test.shape[0]))"
   ]
  },
  {
   "cell_type": "markdown",
   "metadata": {},
   "source": [
    "So far, we have seen that neural networks take vectors as inputs, not images, so we need to \"flatten\" the 28x28 image into a 784-long single vector."
   ]
  },
  {
   "cell_type": "code",
   "execution_count": null,
   "metadata": {
    "ExecuteTime": {
     "end_time": "2018-11-07T13:18:27.971322Z",
     "start_time": "2018-11-07T13:18:27.966137Z"
    }
   },
   "outputs": [],
   "source": [
    "X_train = X_train.reshape(X_train.shape[0], 784)\n",
    "X_test  = X_test.reshape(X_test.shape[0], 784);\n",
    "print(X_train.shape)\n",
    "print(X_test.shape)"
   ]
  },
  {
   "cell_type": "markdown",
   "metadata": {},
   "source": [
    "Display the first image (now that we have flattened all images, we need to reshape them to 28x28 to display them as images)."
   ]
  },
  {
   "cell_type": "code",
   "execution_count": null,
   "metadata": {
    "ExecuteTime": {
     "end_time": "2018-11-07T13:18:29.553089Z",
     "start_time": "2018-11-07T13:18:29.313983Z"
    }
   },
   "outputs": [],
   "source": [
    "%matplotlib inline\n",
    "import matplotlib.pyplot as plt\n",
    "\n",
    "plt.imshow(X_train[0,:].reshape(28, 28), cmap='Greys')\n",
    "plt.axis(\"off\");"
   ]
  },
  {
   "cell_type": "code",
   "execution_count": null,
   "metadata": {
    "ExecuteTime": {
     "end_time": "2018-11-07T13:18:42.437830Z",
     "start_time": "2018-11-07T13:18:31.928514Z"
    }
   },
   "outputs": [],
   "source": [
    "gridSize=16\n",
    "\n",
    "plt.figure(figsize=(10,10))\n",
    "for ind in range(gridSize*gridSize):\n",
    "    plt.subplot(gridSize, gridSize, ind+1)\n",
    "    plt.imshow(X_train[ind, :].reshape(28, 28), cmap=\"Greys\")\n",
    "    plt.axis(\"off\")"
   ]
  },
  {
   "cell_type": "markdown",
   "metadata": {},
   "source": [
    "Here is the label map and the class count in the training and testing sets."
   ]
  },
  {
   "cell_type": "code",
   "execution_count": null,
   "metadata": {
    "ExecuteTime": {
     "end_time": "2018-11-07T13:18:42.453658Z",
     "start_time": "2018-11-07T13:18:42.439755Z"
    }
   },
   "outputs": [],
   "source": [
    "import numpy as np\n",
    "\n",
    "Labels = [\"T-shirt/top\",\n",
    "\"Trouser\",\n",
    "\"Pullover\",\n",
    "\"Dress\",\n",
    "\"Coat\",\n",
    "\"Sandal\",\n",
    "\"Shirt\",\n",
    "\"Sneaker\",\n",
    "\"Bag\",\n",
    "\"Ankle boot\"]\n",
    "\n",
    "l, c = np.unique(y_train, return_counts=True)\n",
    "lt, ct = np.unique(y_test, return_counts=True)\n",
    "\n",
    "for idx, count, count_test in zip(l, c, ct):\n",
    "    print(\"{0}: {1} / {2}\".format(Labels[idx], count, count_test))"
   ]
  },
  {
   "cell_type": "markdown",
   "metadata": {},
   "source": [
    "**One-hot encoding** is the representation of the target class as a vector of 0s and 1s."
   ]
  },
  {
   "cell_type": "code",
   "execution_count": null,
   "metadata": {
    "ExecuteTime": {
     "end_time": "2018-11-07T13:21:20.816773Z",
     "start_time": "2018-11-07T13:21:20.807967Z"
    }
   },
   "outputs": [],
   "source": [
    "from keras.utils import to_categorical\n",
    "y_train_ohe = to_categorical(y_train)\n",
    "y_test_ohe = to_categorical(y_test)\n",
    "print(y_train_ohe.shape)"
   ]
  },
  {
   "cell_type": "markdown",
   "metadata": {},
   "source": [
    "# <a id=\"sec3\"></a> 3. Our first neural network in Keras\n",
    "\n",
    "**Our first network in Keras**\n",
    "\n",
    "Let's keep it simple. There is no hidden layer:\n",
    "- input dimension is $28\\times28=784$\n",
    "- output dimension is 10 (10 classes)\n",
    "\n",
    "So our network is simply:\n",
    "$$ Y = \\sigma(w^T x+b) $$\n",
    "\n",
    "The softmax function $\\sigma$ normalizes all outputs so that they sum to 1. For a $K$-dimensional vector $z$:\n",
    "$$\\sigma(z)_j = \\frac{e^{z_j}}{\\sum_{k=1}^K e^{z_k}}$$\n",
    "\n",
    "We shall use the cross entropy loss function:\n",
    "\n",
    "<img src=\"img/cross-entropy.png\" width=\"700px\">"
   ]
  },
  {
   "cell_type": "markdown",
   "metadata": {},
   "source": [
    "Let's declare a [feed-forward neural network](https://keras.io/getting-started/sequential-model-guide/)."
   ]
  },
  {
   "cell_type": "code",
   "execution_count": null,
   "metadata": {
    "ExecuteTime": {
     "end_time": "2018-11-07T13:24:26.837630Z",
     "start_time": "2018-11-07T13:24:26.835004Z"
    }
   },
   "outputs": [],
   "source": [
    "from keras.models import Sequential\n",
    "model = Sequential()"
   ]
  },
  {
   "cell_type": "markdown",
   "metadata": {},
   "source": [
    "Let's now add the output layer, indicating that its input is a 784 vector corresponding to our 28x28 grayscale image and that the layer is a [fully connected](https://keras.io/layers/core/#dense) one."
   ]
  },
  {
   "cell_type": "code",
   "execution_count": null,
   "metadata": {
    "ExecuteTime": {
     "end_time": "2018-11-07T13:24:27.724869Z",
     "start_time": "2018-11-07T13:24:27.713213Z"
    }
   },
   "outputs": [],
   "source": [
    "from keras.layers import Dense\n",
    "model.add(Dense(units=10, input_dim=X_train.shape[1]))"
   ]
  },
  {
   "cell_type": "markdown",
   "metadata": {},
   "source": [
    "Let's indicate that the [activation function](https://keras.io/activations/) for this output layer is a softmax."
   ]
  },
  {
   "cell_type": "code",
   "execution_count": null,
   "metadata": {
    "ExecuteTime": {
     "end_time": "2018-11-07T13:24:28.656146Z",
     "start_time": "2018-11-07T13:24:28.651980Z"
    }
   },
   "outputs": [],
   "source": [
    "from keras.layers import Activation\n",
    "model.add(Activation('softmax'))"
   ]
  },
  {
   "cell_type": "markdown",
   "metadata": {},
   "source": [
    "We want to optimize the cross-entropy loss but we would also like to monitor the accuracy and the \"top 3 categorical accuracy\" [metrics](https://keras.io/metrics/) (whether the true class is among the three most probable predicted classes) along the training, so we define it as a function."
   ]
  },
  {
   "cell_type": "code",
   "execution_count": null,
   "metadata": {
    "ExecuteTime": {
     "end_time": "2018-11-07T13:24:30.017511Z",
     "start_time": "2018-11-07T13:24:30.012431Z"
    }
   },
   "outputs": [],
   "source": [
    "import keras.metrics as metrics\n",
    "def top3_acc(ytrue, ypred):\n",
    "    return metrics.top_k_categorical_accuracy(ytrue, ypred, k=3)"
   ]
  },
  {
   "cell_type": "markdown",
   "metadata": {},
   "source": [
    "Finally, we want to use stochastic gradient descent as an [optimizer](https://keras.io/optimizers/) and optimize the cross-entropy [loss](https://keras.io/losses/). All this allows to fully define our optimization task and to [*compile* our model](https://keras.io/models/model/)."
   ]
  },
  {
   "cell_type": "code",
   "execution_count": null,
   "metadata": {
    "ExecuteTime": {
     "end_time": "2018-11-07T13:24:31.039095Z",
     "start_time": "2018-11-07T13:24:30.995973Z"
    }
   },
   "outputs": [],
   "source": [
    "import keras.losses as losses\n",
    "import keras.optimizers as optimizers\n",
    "\n",
    "model.compile(loss=losses.categorical_crossentropy,\n",
    "              optimizer=optimizers.SGD(lr=0.001),\n",
    "              metrics=[metrics.categorical_accuracy, top3_acc])"
   ]
  },
  {
   "cell_type": "markdown",
   "metadata": {},
   "source": [
    "**Let's train!**"
   ]
  },
  {
   "cell_type": "code",
   "execution_count": null,
   "metadata": {
    "ExecuteTime": {
     "end_time": "2018-11-07T13:25:32.651748Z",
     "start_time": "2018-11-07T13:24:32.982910Z"
    },
    "scrolled": true
   },
   "outputs": [],
   "source": [
    "%%time\n",
    "history = model.fit(X_train, y_train_ohe, validation_data=(X_test,y_test_ohe), epochs=400, batch_size=512)"
   ]
  },
  {
   "cell_type": "markdown",
   "metadata": {},
   "source": [
    "It is common to plot different values obtained during training (by epoch). Keras provides the convenient [history](https://keras.io/visualization/#training-history-visualization) output to do so."
   ]
  },
  {
   "cell_type": "code",
   "execution_count": null,
   "metadata": {
    "ExecuteTime": {
     "end_time": "2018-11-07T09:16:08.438305Z",
     "start_time": "2018-11-07T09:16:07.665683Z"
    }
   },
   "outputs": [],
   "source": [
    "plt.figure(figsize=(20,10))\n",
    "plt.style.use('ggplot')\n",
    "for i, (name, values) in enumerate(sorted(history.history.items())):\n",
    "    plt.subplot(1, len(history.history.items()), i+1)\n",
    "    plt.plot(values)\n",
    "    plt.title(name)"
   ]
  },
  {
   "cell_type": "markdown",
   "metadata": {},
   "source": [
    "In case you stopped the optimization early and did not run it for the 400 epochs, here is what you should get after those 400 epochs:\n",
    "\n",
    "<img src=\"img/training_history_1.png\">"
   ]
  },
  {
   "cell_type": "code",
   "execution_count": null,
   "metadata": {
    "ExecuteTime": {
     "end_time": "2018-11-07T09:16:32.258189Z",
     "start_time": "2018-11-07T09:16:30.961669Z"
    },
    "scrolled": false
   },
   "outputs": [],
   "source": [
    "from sklearn.metrics import confusion_matrix, classification_report, accuracy_score\n",
    "\n",
    "predictions = model.predict(X_test).argmax(axis=1)\n",
    "\n",
    "print(\"Accuracy: \")\n",
    "print(accuracy_score(predictions, y_test))\n",
    "print(\"\\n\\n\")\n",
    "print(\"Confusion matrix: \")\n",
    "print(confusion_matrix(predictions, y_test))\n",
    "print(\"\\n\\n\")\n",
    "print(classification_report(predictions, y_test, target_names=Labels))"
   ]
  },
  {
   "cell_type": "markdown",
   "metadata": {},
   "source": [
    "Again, if you didn't run the optimization for 400 epochs, here is the result you should have found if you did:\n",
    "\n",
    "```\n",
    "Accuracy: \n",
    "0.5371\n",
    "\n",
    "\n",
    "\n",
    "Confusion matrix: \n",
    "[[  0   0   0   0   0   0   0   0   0   0]\n",
    " [ 11 962  25  17   2   0   8   0   1   0]\n",
    " [  0   0   0   0   0   0   0   0   0   0]\n",
    " [172  25  43 895  46   1  86   0   7   0]\n",
    " [ 18   7 379  35 847   1 145   0   4   0]\n",
    " [  0   0   1   1   1 982   0 997   7 998]\n",
    " [770   6 536  46  97   0 726   0  22   0]\n",
    " [  0   0   0   0   0   0   0   0   0   0]\n",
    " [ 29   0  16   6   7  16  35   3 959   2]\n",
    " [  0   0   0   0   0   0   0   0   0   0]]\n",
    "\n",
    "\n",
    "\n",
    "             precision    recall  f1-score   support\n",
    "\n",
    "T-shirt/top       0.00      0.00      0.00         0\n",
    "    Trouser       0.96      0.94      0.95      1026\n",
    "   Pullover       0.00      0.00      0.00         0\n",
    "      Dress       0.90      0.70      0.79      1275\n",
    "       Coat       0.85      0.59      0.70      1436\n",
    "     Sandal       0.98      0.33      0.49      2987\n",
    "      Shirt       0.73      0.33      0.45      2203\n",
    "    Sneaker       0.00      0.00      0.00         0\n",
    "        Bag       0.96      0.89      0.93      1073\n",
    " Ankle boot       0.00      0.00      0.00         0\n",
    "\n",
    "avg / total       0.89      0.54      0.64     10000```"
   ]
  },
  {
   "cell_type": "markdown",
   "metadata": {},
   "source": [
    "Let's identify some misclassified items."
   ]
  },
  {
   "cell_type": "code",
   "execution_count": null,
   "metadata": {
    "ExecuteTime": {
     "end_time": "2018-11-07T09:21:01.422892Z",
     "start_time": "2018-11-07T09:21:01.057059Z"
    },
    "scrolled": false
   },
   "outputs": [],
   "source": [
    "import random\n",
    "\n",
    "wrong_predictions = (predictions != y_test)\n",
    "n_wp = wrong_predictions.sum()\n",
    "\n",
    "N = 4\n",
    "for i in range(N):\n",
    "    idx = random.choice(range(n_wp))\n",
    "    plt.figure()\n",
    "    plt.imshow(X_test[wrong_predictions,::][idx,::].reshape(28, 28), cmap=\"Greys\")\n",
    "    plt.axis(\"off\")\n",
    "    plt.title(\"Predicted: {0} // Truth: {1}\".format(\n",
    "        Labels[predictions[wrong_predictions][idx]],\n",
    "        Labels[y_test[wrong_predictions][idx]]\n",
    "    ))"
   ]
  },
  {
   "cell_type": "code",
   "execution_count": null,
   "metadata": {
    "ExecuteTime": {
     "end_time": "2018-11-07T13:22:54.755758Z",
     "start_time": "2018-11-07T13:22:54.751201Z"
    }
   },
   "outputs": [],
   "source": [
    "X_train.shape[1]"
   ]
  },
  {
   "cell_type": "code",
   "execution_count": null,
   "metadata": {
    "ExecuteTime": {
     "end_time": "2018-11-07T14:29:56.261229Z",
     "start_time": "2018-11-07T14:29:56.163887Z"
    }
   },
   "outputs": [],
   "source": [
    "from keras.models import Sequential\n",
    "from keras.layers import Dense, Activation\n",
    "import keras.metrics as metrics\n",
    "import keras.losses as losses\n",
    "import keras.optimizers as optimizers\n",
    "\n",
    "\n",
    "def top3_acc(ytrue, ypred):\n",
    "    return metrics.top_k_categorical_accuracy(ytrue, ypred, k=3)\n",
    "\n",
    "model = Sequential()\n",
    "model.add(Dense(units=200, input_dim=X_train.shape[1]))\n",
    "model.add(Activation('relu'))\n",
    "model.add(Dense(units=150))\n",
    "model.add(Activation('relu'))\n",
    "model.add(Dense(units=50))\n",
    "model.add(Activation('relu'))\n",
    "#model.add(Dense(units=30))\n",
    "#model.add(Activation('relu'))\n",
    "model.add(Dense(units=10))\n",
    "model.add(Activation('softmax'))\n",
    "\n",
    "# Change decay for better results\n",
    "# lr: 1e-3, decay: 0\n",
    "\n",
    "N = X_train.shape[0]\n",
    "batch_size = 32\n",
    "n_batch = int(N/batch_size)\n",
    "\n",
    "model.compile(loss=losses.categorical_crossentropy,\n",
    "              optimizer=optimizers.SGD(),\n",
    "              metrics=[metrics.categorical_accuracy, top3_acc])"
   ]
  },
  {
   "cell_type": "code",
   "execution_count": null,
   "metadata": {
    "ExecuteTime": {
     "end_time": "2018-11-07T14:33:27.637902Z",
     "start_time": "2018-11-07T14:29:56.973266Z"
    }
   },
   "outputs": [],
   "source": [
    "%%time\n",
    "history = model.fit(X_train, y_train_ohe, validation_data=(X_test, y_test_ohe), epochs=50, batch_size=512)"
   ]
  },
  {
   "cell_type": "code",
   "execution_count": null,
   "metadata": {
    "ExecuteTime": {
     "end_time": "2018-11-07T14:38:56.820013Z",
     "start_time": "2018-11-07T14:38:56.074050Z"
    }
   },
   "outputs": [],
   "source": [
    "plt.figure(figsize=(20,10))\n",
    "plt.style.use('ggplot')\n",
    "for i, (name, values) in enumerate(sorted(history.history.items())):\n",
    "    plt.subplot(1, len(history.history.items()), i+1)\n",
    "    plt.plot(values)\n",
    "    plt.title(name)"
   ]
  },
  {
   "cell_type": "markdown",
   "metadata": {},
   "source": [
    "In case you stopped the optimization early and did not run it for the 150 epochs, here is what you should get after those 150 epochs:\n",
    "\n",
    "<img src=\"img/training_history_2_overfit.png\">"
   ]
  },
  {
   "cell_type": "code",
   "execution_count": null,
   "metadata": {
    "ExecuteTime": {
     "end_time": "2018-11-07T01:06:08.235142Z",
     "start_time": "2018-11-07T01:06:07.181578Z"
    }
   },
   "outputs": [],
   "source": [
    "from sklearn.metrics import confusion_matrix, classification_report, accuracy_score\n",
    "\n",
    "predictions = model.predict(X_test).argmax(axis=1)\n",
    "\n",
    "print(\"Accuracy: \")\n",
    "print(accuracy_score(predictions, y_test))\n",
    "print(\"\\n\\n\")\n",
    "print(\"Confusion matrix: \")\n",
    "print(confusion_matrix(predictions, y_test))\n",
    "print(\"\\n\\n\")\n",
    "print(classification_report(predictions, y_test, target_names=Labels))"
   ]
  },
  {
   "cell_type": "markdown",
   "metadata": {},
   "source": [
    "Again, if you didn't run the optimization for 150 epochs, here is the result you should have found if you did:\n",
    "\n",
    "```\n",
    "TODO\n",
    "```"
   ]
  },
  {
   "cell_type": "code",
   "execution_count": null,
   "metadata": {
    "ExecuteTime": {
     "end_time": "2018-11-07T01:06:08.822316Z",
     "start_time": "2018-11-07T01:06:08.238681Z"
    }
   },
   "outputs": [],
   "source": [
    "import random\n",
    "\n",
    "wrong_predictions = (predictions != y_test)\n",
    "n_wp = wrong_predictions.sum()\n",
    "\n",
    "N = 4\n",
    "for i in range(N):\n",
    "    idx = random.choice(range(n_wp))\n",
    "    plt.figure()\n",
    "    plt.imshow(X_test[wrong_predictions,::][idx,::].reshape(28, 28), cmap=\"Greys\")\n",
    "    plt.axis(\"off\")\n",
    "    plt.title(\"Predicted: {0} // Truth: {1}\".format(\n",
    "        Labels[predictions[wrong_predictions][idx]],\n",
    "        Labels[y_test[wrong_predictions][idx]]\n",
    "    ))"
   ]
  },
  {
   "cell_type": "markdown",
   "metadata": {},
   "source": [
    "# 5. <a id=\"sec5\"></a>Avoiding overfitting \n",
    "\n",
    "If you look closely, our network still suffers from overfitting. \n",
    "\n",
    "We are going to introduce four techniques to avoid that:\n",
    "\n",
    "**Early-stopping**\n",
    "\n",
    "TODO\n",
    "\n",
    "**Dropout**\n",
    "\n",
    "The idea of dropout is very simple. At each training epoch, some neurons are either \"dropped out\" of the network with probability $1 − p$ or kept with probability $p$, so that training occurs only on a pruned network. Incoming and outgoing edges to a dropped-out neuron are also removed. Only the pruned network is trained on the data in that epoch. The removed neurons are then reinserted into the network with their original weights.<br>\n",
    "[**Dropout: A Simple Way to Prevent Neural Networks from Overfitting**. Srivastava et al., Journal of Machine Learning Research (2014).](https://www.cs.toronto.edu/~hinton/absps/JMLRdropout.pdf)\n",
    "\n",
    "**Regularization**\n",
    "\n",
    "Regularization is an idea borrowed to the general field of statistical learning. In the bias-variance compromise, a good way of allowing low bias while keeping low variance is to penalize the objective function with the norm of the parameters' vector. For example, we could include $\\|\\theta\\|_1$ in the loss function.\n",
    "\n",
    "**Data augmentation**\n",
    "\n",
    "Data augmentation consists in artificially creating data by applying transformations on the input data. This way, we provide more examples to the classifier, that avoids overfitting by precisely overfitting the perturbed artificial data. It is particularly efficient when working with image data.\n",
    "\n",
    "In this section we only experiment with dropout."
   ]
  },
  {
   "cell_type": "code",
   "execution_count": null,
   "metadata": {
    "ExecuteTime": {
     "end_time": "2018-11-07T09:52:21.782827Z",
     "start_time": "2018-11-07T09:52:21.556314Z"
    }
   },
   "outputs": [],
   "source": [
    "from keras.layers import Dropout\n",
    "\n",
    "dropout_rate=0.1\n",
    "\n",
    "model = Sequential()\n",
    "model.add(Dense(units=200, input_dim=X_train.shape[1]))\n",
    "model.add(Activation('relu'))\n",
    "model.add(Dropout(dropout_rate))\n",
    "model.add(Dense(units=150))\n",
    "model.add(Activation('relu'))\n",
    "model.add(Dropout(dropout_rate))\n",
    "model.add(Dense(units=50))\n",
    "model.add(Activation('relu'))\n",
    "model.add(Dropout(dropout_rate))\n",
    "model.add(Dense(units=30))\n",
    "model.add(Activation('relu'))\n",
    "model.add(Dropout(dropout_rate))\n",
    "model.add(Dense(units=10))\n",
    "model.add(Activation('softmax'))\n",
    "\n",
    "model.compile(loss=losses.categorical_crossentropy,\n",
    "              optimizer=optimizers.SGD(lr=0.001, decay=0., nesterov=False),\n",
    "              metrics=[metrics.categorical_accuracy, top3_acc])"
   ]
  },
  {
   "cell_type": "code",
   "execution_count": null,
   "metadata": {
    "ExecuteTime": {
     "end_time": "2018-11-07T09:56:09.789787Z",
     "start_time": "2018-11-07T09:52:21.784612Z"
    },
    "scrolled": true
   },
   "outputs": [],
   "source": [
    "%%time\n",
    "history = model.fit(X_train, y_train_ohe, validation_data=(X_test,y_test_ohe), epochs=150, batch_size=64)"
   ]
  },
  {
   "cell_type": "code",
   "execution_count": null,
   "metadata": {
    "ExecuteTime": {
     "end_time": "2018-11-07T01:44:20.494153Z",
     "start_time": "2018-11-07T01:44:19.589300Z"
    }
   },
   "outputs": [],
   "source": [
    "plt.figure(figsize=(20,10))\n",
    "\n",
    "for i, (name, values) in enumerate(sorted(history.history.items())):\n",
    "    plt.subplot(1, len(history.history.items()), i+1)\n",
    "    plt.plot(values)\n",
    "    plt.title(name)"
   ]
  },
  {
   "cell_type": "markdown",
   "metadata": {},
   "source": [
    "In case you stopped the optimization early and did not run it for the 150 epochs, here is what you should get after those 150 epochs:\n",
    "\n",
    "<img src=\"img/training_history_3.png\">"
   ]
  },
  {
   "cell_type": "code",
   "execution_count": null,
   "metadata": {
    "ExecuteTime": {
     "end_time": "2018-11-07T01:44:21.920140Z",
     "start_time": "2018-11-07T01:44:20.496479Z"
    },
    "scrolled": true
   },
   "outputs": [],
   "source": [
    "predictions = model.predict(X_test).argmax(axis=1)\n",
    "\n",
    "print(\"Accuracy: \")\n",
    "print(accuracy_score(predictions, y_test))\n",
    "print(\"\\n\\n\")\n",
    "print(\"Confusion matrix: \")\n",
    "print(confusion_matrix(predictions, y_test))\n",
    "print(\"\\n\\n\")\n",
    "print(classification_report(predictions, y_test, target_names=Labels))"
   ]
  },
  {
   "cell_type": "markdown",
   "metadata": {},
   "source": [
    "Again, if you didn't run the optimization for 150 epochs, here is the result you should have found if you did:\n",
    "\n",
    "```\n",
    "Accuracy: \n",
    "0.8829\n",
    "\n",
    "\n",
    "\n",
    "Confusion matrix: \n",
    "[[825   2  14  17   0   0 118   0   5   0]\n",
    " [  1 963   0   5   0   0   1   0   0   0]\n",
    " [ 14   1 785   8  85   0 107   0   4   0]\n",
    " [ 28  25  12 894  24   1  26   0   3   0]\n",
    " [  3   4 123  44 851   0  70   0   3   0]\n",
    " [  1   0   0   2   0 952   0  13   3   5]\n",
    " [120   3  64  28  39   0 664   0  11   1]\n",
    " [  0   0   0   1   0  31   0 968   6  32]\n",
    " [  8   2   2   1   1   2  14   0 965   0]\n",
    " [  0   0   0   0   0  14   0  19   0 962]]\n",
    "\n",
    "\n",
    "\n",
    "             precision    recall  f1-score   support\n",
    "\n",
    "T-shirt/top       0.82      0.84      0.83       981\n",
    "    Trouser       0.96      0.99      0.98       970\n",
    "   Pullover       0.79      0.78      0.78      1004\n",
    "      Dress       0.89      0.88      0.89      1013\n",
    "       Coat       0.85      0.78      0.81      1098\n",
    "     Sandal       0.95      0.98      0.96       976\n",
    "      Shirt       0.66      0.71      0.69       930\n",
    "    Sneaker       0.97      0.93      0.95      1038\n",
    "        Bag       0.96      0.97      0.97       995\n",
    " Ankle boot       0.96      0.97      0.96       995\n",
    "\n",
    "avg / total       0.88      0.88      0.88     10000\n",
    "```"
   ]
  },
  {
   "cell_type": "markdown",
   "metadata": {},
   "source": [
    "# 6. <a id=\"sec6\"></a>Better optimizers\n",
    "\n",
    "Stochastic Gradient Descent is our core method but improved optimizers are readily implemented in Keras. Most of them, like ADAM or RMSprop rely on the idea of including momentum in the gradient descent."
   ]
  },
  {
   "cell_type": "markdown",
   "metadata": {},
   "source": [
    "# 7. <a id=\"sec7\"></a>Convolutional Neural Networks\n",
    "\n",
    "The main factor which makes deep learning so useful for computer vision is the use of convolutions. Convolutional networks exploit the fact that the data is actually an image in the learning while decreasing the number of weights in the network. To do this, they define **convolution filters** that brush across the image. Such a filter defines a so-called **feature map** that shares the weights of the filter. The result of applying a feature map on an image is a new image of lower resolution, where each pixel is the result of the convolution of the filter with a set of pixels from the input image, as illustrated on the figure below.\n",
    "\n",
    "<img src=\"img/convnet.gif\" width=\"700px\">\n",
    "\n",
    "Another specificity of convolutional networks is **pooling**. Pooling is the operation of down-sampling the image by grouping together certain pixels. The most common pooling operation takes the maximum value over a certain window.\n",
    "\n",
    "The following network is quite simple. It is a ConvNet, a family of networks built by stacking Conv/Pool blocks upon each other and adding a final set of dense layers as in the network below:\n",
    "- Input layer: images of size $28\\times 28$ with a single channel\n",
    "- Convolutional layer of 16 feature maps with $5\\times 5$ filters and ReLU activation functions\n",
    "- Max pooling layer by blocks of size $2 \\times 2$\n",
    "- Convolutional layer of 16 feature maps with $5\\times 5$ filters and ReLU activation functions\n",
    "- Max pooling layer by blocks of size $2 \\times 2$\n",
    "- Fully connected layer with 200 ReLU neurons\n",
    "- Fully connected output layer with 10 softwax neurons\n"
   ]
  },
  {
   "cell_type": "code",
   "execution_count": null,
   "metadata": {
    "ExecuteTime": {
     "end_time": "2018-11-07T10:22:50.050899Z",
     "start_time": "2018-11-07T10:22:49.944900Z"
    }
   },
   "outputs": [],
   "source": [
    "from keras.layers import Conv2D, MaxPool2D, MaxPooling2D, Flatten\n",
    "\n",
    "model = Sequential()\n",
    "\n",
    "model.add(Conv2D(16, (5, 5), activation='relu', input_shape=(28, 28, 1)))\n",
    "model.add(MaxPooling2D(pool_size=(2, 2)))\n",
    "model.add(Conv2D(16, (5, 5), activation='relu'))\n",
    "model.add(MaxPooling2D(pool_size=(2, 2)))\n",
    "model.add(Flatten())\n",
    "model.add(Dense(200, activation='relu'))\n",
    "model.add(Dropout(dropout_rate))\n",
    "model.add(Dense(10, activation='softmax'))\n",
    "\n",
    "model.compile(loss=losses.categorical_crossentropy,\n",
    "              optimizer=optimizers.SGD(lr=0.001, decay=0., nesterov=False),\n",
    "              metrics=[metrics.categorical_accuracy, top3_acc])"
   ]
  },
  {
   "cell_type": "markdown",
   "metadata": {},
   "source": [
    "Let's save a picture of our model."
   ]
  },
  {
   "cell_type": "code",
   "execution_count": null,
   "metadata": {
    "ExecuteTime": {
     "end_time": "2018-11-07T10:24:20.434876Z",
     "start_time": "2018-11-07T10:24:20.334556Z"
    }
   },
   "outputs": [],
   "source": [
    "# requires pydot and graphviz (skip this step if you don't want to install them)\n",
    "from keras.utils import plot_model\n",
    "plot_model(model, to_file='model.png')"
   ]
  },
  {
   "cell_type": "markdown",
   "metadata": {},
   "source": [
    "Let's train."
   ]
  },
  {
   "cell_type": "code",
   "execution_count": null,
   "metadata": {
    "ExecuteTime": {
     "end_time": "2018-11-07T10:27:41.781074Z",
     "start_time": "2018-11-07T10:25:30.137210Z"
    }
   },
   "outputs": [],
   "source": [
    "%%time\n",
    "history = model.fit(X_train.reshape(-1, 28, 28, 1), y_train_ohe, validation_data=(X_test.reshape(-1, 28, 28, 1),y_test_ohe), epochs=150, batch_size=64)"
   ]
  },
  {
   "cell_type": "code",
   "execution_count": null,
   "metadata": {
    "ExecuteTime": {
     "end_time": "2018-11-07T06:46:32.304268Z",
     "start_time": "2018-11-07T06:46:31.478011Z"
    }
   },
   "outputs": [],
   "source": [
    "plt.figure(figsize=(20,10))\n",
    "\n",
    "for i, (name, values) in enumerate(sorted(history.history.items())):\n",
    "    plt.subplot(1, len(history.history.items()), i+1)\n",
    "    plt.plot(values)\n",
    "    plt.title(name)"
   ]
  },
  {
   "cell_type": "markdown",
   "metadata": {},
   "source": [
    "In case you stopped the optimization early and did not run it for the 150 epochs, here is what you should get after those 150 epochs:\n",
    "\n",
    "<img src=\"img/training_history_4.png\">"
   ]
  },
  {
   "cell_type": "code",
   "execution_count": null,
   "metadata": {
    "ExecuteTime": {
     "end_time": "2018-11-07T06:46:39.457740Z",
     "start_time": "2018-11-07T06:46:32.306441Z"
    }
   },
   "outputs": [],
   "source": [
    "predictions = model.predict(X_test.reshape(-1, 28, 28, 1)).argmax(axis=1)\n",
    "\n",
    "print(\"Accuracy: \")\n",
    "print(accuracy_score(predictions, y_test))\n",
    "print(\"\\n\\n\")\n",
    "print(\"Confusion matrix: \")\n",
    "print(confusion_matrix(predictions, y_test))\n",
    "print(\"\\n\\n\")\n",
    "print(classification_report(predictions, y_test, target_names=Labels))"
   ]
  },
  {
   "cell_type": "markdown",
   "metadata": {},
   "source": [
    "Again, if you didn't run the optimization for 150 epochs, here is the result you should have found if you did:\n",
    "\n",
    "```\n",
    "Accuracy: \n",
    "0.8825\n",
    "\n",
    "\n",
    "\n",
    "Confusion matrix: \n",
    "[[784   3  13  12   2   0  90   0   1   0]\n",
    " [  1 970   1   7   1   0   5   0   0   0]\n",
    " [ 11   0 755   8  45   0  58   0   0   1]\n",
    " [ 26  17   7 897  28   0  32   0   5   1]\n",
    " [  2   4  95  33 823   0  50   0   3   0]\n",
    " [  5   0   1   0   0 955   0  13   1   5]\n",
    " [163   6 125  37  97   1 752   0  14   0]\n",
    " [  0   0   1   0   0  32   0 972   7  44]\n",
    " [  8   0   2   6   4   2  13   0 968   0]\n",
    " [  0   0   0   0   0  10   0  15   1 949]]\n",
    "\n",
    "\n",
    "\n",
    "             precision    recall  f1-score   support\n",
    "\n",
    "T-shirt/top       0.78      0.87      0.82       905\n",
    "    Trouser       0.97      0.98      0.98       985\n",
    "   Pullover       0.76      0.86      0.80       878\n",
    "      Dress       0.90      0.89      0.89      1013\n",
    "       Coat       0.82      0.81      0.82      1010\n",
    "     Sandal       0.95      0.97      0.96       980\n",
    "      Shirt       0.75      0.63      0.69      1195\n",
    "    Sneaker       0.97      0.92      0.95      1056\n",
    "        Bag       0.97      0.97      0.97      1003\n",
    " Ankle boot       0.95      0.97      0.96       975\n",
    "\n",
    "avg / total       0.88      0.88      0.88     10000\n",
    "```"
   ]
  },
  {
   "cell_type": "markdown",
   "metadata": {},
   "source": [
    "# <a id=\"sec8\"></a> 8. Going further\n",
    "\n",
    "Deep Learning is a hot topic with new contributions almost every week. Interested readers can investigate further the topics above to get a deeper understanding or explore the following keywords for example:\n",
    "- batch normalization\n",
    "- recurrent networks and LSTM\n",
    "- pretrain / fine-tune\n",
    "- pre-trained networks\n",
    "- generative adversarial networks"
   ]
  },
  {
   "cell_type": "code",
   "execution_count": null,
   "metadata": {},
   "outputs": [],
   "source": []
  }
 ],
 "metadata": {
  "celltoolbar": "Slideshow",
  "kernelspec": {
   "display_name": "Python 3",
   "language": "python",
   "name": "python3"
  },
  "language_info": {
   "codemirror_mode": {
    "name": "ipython",
    "version": 3
   },
   "file_extension": ".py",
   "mimetype": "text/x-python",
   "name": "python",
   "nbconvert_exporter": "python",
   "pygments_lexer": "ipython3",
   "version": "3.7.5"
  },
  "toc": {
   "base_numbering": 1,
   "nav_menu": {},
   "number_sections": true,
   "sideBar": true,
   "skip_h1_title": false,
   "title_cell": "Table of Contents",
   "title_sidebar": "Contents",
   "toc_cell": false,
   "toc_position": {
    "height": "calc(100% - 180px)",
    "left": "10px",
    "top": "150px",
    "width": "384px"
   },
   "toc_section_display": true,
   "toc_window_display": true
  }
 },
 "nbformat": 4,
 "nbformat_minor": 2
}
