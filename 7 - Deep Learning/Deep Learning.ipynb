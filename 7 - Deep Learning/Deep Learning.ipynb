{
 "cells": [
  {
   "cell_type": "markdown",
   "metadata": {
    "slideshow": {
     "slide_type": "slide"
    }
   },
   "source": [
    "This notebook is part of the [Machine Learning class](https://github.com/erachelson/MLclass) by [Emmanuel Rachelson](https://personnel.isae-supaero.fr/emmanuel-rachelson?lang=en).\n",
    "\n",
    "License: CC-BY-SA-NC."
   ]
  },
  {
   "cell_type": "markdown",
   "metadata": {
    "slideshow": {
     "slide_type": "slide"
    }
   },
   "source": [
    "# Deep Learning\n",
    "\n",
    "This class supposes a basic knowledge of Artificial Neural Networks, Backpropagation and Stochastic Gradient Descent (as introduced in the previous class). If you want an in-depth refresher on linear algebra specific to deep learning, [these notebooks](https://github.com/hadrienj/deepLearningBook-Notes) are well-done.\n",
    "\n",
    "0. [Preparation](#sec0)\n",
    "1. [Neural network training with PyTorch](#sec1)\n",
    "2. [The Fashion-MNIST dataset](#sec2)\n",
    "2. [Going deeper (first steps in Deep Learning)](#sec3)\n",
    "3. [Avoiding overfitting](#sec4)\n",
    "4. [Better optimizers](#sec5)\n",
    "5. [CNN](#sec6)\n",
    "6. [Going further](#sec7)"
   ]
  },
  {
   "cell_type": "markdown",
   "metadata": {
    "slideshow": {
     "slide_type": "slide"
    }
   },
   "source": [
    "# <a id=\"sec0\">0. Preparation</a>"
   ]
  },
  {
   "cell_type": "markdown",
   "metadata": {
    "slideshow": {
     "slide_type": "fragment"
    }
   },
   "source": [
    "In this notebook, we'll be using `torch` and `torchvision`. Please refer to the [PyTorch](https://pytorch.org/get-started/locally/) website for installation instructions. We'll also be using the packages `sklearn`, `numpy`, and `matplotlib`. To make the notebook into slides, I'm using [`rise`](https://github.com/damianavila/RISE) which you can also install."
   ]
  },
  {
   "cell_type": "markdown",
   "metadata": {
    "slideshow": {
     "slide_type": "fragment"
    }
   },
   "source": [
    "<div class=\"alert alert-success\">\n",
    "Exercise 1:\n",
    "Install the necessary packages and verify that everything is working by importing everything.\n",
    "</div>"
   ]
  },
  {
   "cell_type": "code",
   "execution_count": null,
   "metadata": {
    "slideshow": {
     "slide_type": "fragment"
    }
   },
   "outputs": [],
   "source": [
    "import torch\n",
    "import torchvision\n",
    "import numpy as np\n",
    "%matplotlib inline\n",
    "import matplotlib.pyplot as plt"
   ]
  },
  {
   "cell_type": "markdown",
   "metadata": {
    "slideshow": {
     "slide_type": "slide"
    }
   },
   "source": [
    "# <a id=\"sec1\">1. Dataset: Fashion-MNIST</a>"
   ]
  },
  {
   "cell_type": "markdown",
   "metadata": {
    "slideshow": {
     "slide_type": "fragment"
    }
   },
   "source": [
    "[Fashion-MNIST](https://github.com/zalandoresearch/fashion-mnist) is a dataset of Zalando's article images—consisting of a training set of 60,000 examples and a test set of 10,000 examples. Each example is a 28x28 grayscale image, associated with a label from 10 classes. Fashion-MNIST is a direct drop-in replacement for the original MNIST dataset for benchmarking machine learning algorithms. It shares the same image size and structure of training and testing splits but is more complex.\n",
    "\n",
    "<img src=\"img/fashion-mnist-small.png\">"
   ]
  },
  {
   "cell_type": "code",
   "execution_count": null,
   "metadata": {
    "slideshow": {
     "slide_type": "fragment"
    }
   },
   "outputs": [],
   "source": [
    "labels_text = [\"T-shirt/top\", \"Trouser\", \"Pullover\", \"Dress\", \"Coat\", \"Sandal\", \"Shirt\", \"Sneaker\", \"Bag\", \"Ankle boot\"]"
   ]
  },
  {
   "cell_type": "markdown",
   "metadata": {
    "slideshow": {
     "slide_type": "slide"
    }
   },
   "source": [
    "PyTorch comes with this dataset by default, but we need to download it. We'll then make dataloaders which lazily iterate through the datasets."
   ]
  },
  {
   "cell_type": "code",
   "execution_count": null,
   "metadata": {
    "slideshow": {
     "slide_type": "fragment"
    }
   },
   "outputs": [],
   "source": [
    "to_tensor = torchvision.transforms.Compose([torchvision.transforms.ToTensor()])\n",
    "\n",
    "trainset = torchvision.datasets.FashionMNIST(root='../data', train=True, download=True, transform=to_tensor)\n",
    "trainloader = torch.utils.data.DataLoader(trainset, batch_size=4, shuffle=True)\n",
    "\n",
    "testset = torchvision.datasets.FashionMNIST(root='../data', train=False, download=True, transform=to_tensor)\n",
    "testloader = torch.utils.data.DataLoader(testset, batch_size=4, shuffle=False, num_workers=2)"
   ]
  },
  {
   "cell_type": "markdown",
   "metadata": {
    "slideshow": {
     "slide_type": "slide"
    }
   },
   "source": [
    "<div class=\"alert alert-success\">\n",
    "Exercise 2:\n",
    "Download the Fashion-MNIST dataset and run the following code.\n",
    "    \n",
    "+ Why are there 4 images in our list?\n",
    "+ Why does the list of images change every time?\n",
    "\n",
    "</div>"
   ]
  },
  {
   "cell_type": "code",
   "execution_count": null,
   "metadata": {
    "slideshow": {
     "slide_type": "fragment"
    }
   },
   "outputs": [],
   "source": [
    "# get the first batch of images and labels\n",
    "dataiter = iter(trainloader)\n",
    "images, labels = dataiter.next()\n",
    "\n",
    "plt.figure(figsize=(4,4))\n",
    "for i in range(len(images)):\n",
    "    l = labels[i].numpy()\n",
    "    plt.subplot(2, 2, i+1)\n",
    "    plt.title('%d: %s' % (l, labels_text[l]))\n",
    "    plt.imshow(images[i].numpy()[0], cmap='Greys')\n",
    "    plt.axis('off')"
   ]
  },
  {
   "cell_type": "markdown",
   "metadata": {
    "slideshow": {
     "slide_type": "slide"
    }
   },
   "source": [
    "For the rest of today, we'll focus on creating a deep neural network that accurately classifies these images. This will highlight one application of deep learning, image processing, which has been highly successful. In upcoming classes, we'll see other examples of deep learning (GANs, LSTMs) which have different architectures and training rules. However, the basic principles remain the same!"
   ]
  },
  {
   "cell_type": "markdown",
   "metadata": {
    "slideshow": {
     "slide_type": "slide"
    }
   },
   "source": [
    "# <a id=\"sec2\">2. ANNs in Layers</a>"
   ]
  },
  {
   "cell_type": "markdown",
   "metadata": {
    "slideshow": {
     "slide_type": "fragment"
    }
   },
   "source": [
    "Last class, we looked at individual neurons organized in networks like this:\n",
    "\n",
    "<img src=\"img/nn_fc.png\" width=\"60%\">\n",
    "\n",
    "These two hidden layers are called \"Fully Connected layers\" because every neuron of these layers is connected to every neuron of the previous layer."
   ]
  },
  {
   "cell_type": "markdown",
   "metadata": {
    "slideshow": {
     "slide_type": "slide"
    }
   },
   "source": [
    "In PyTorch, Fully Connected layers are represented with the `torch.nn.Linear` function. The documentation is [here](https://pytorch.org/docs/stable/nn.html?highlight=torch%20nn%20linear#torch.nn.Linear) or we can ask Jupyter:"
   ]
  },
  {
   "cell_type": "code",
   "execution_count": null,
   "metadata": {
    "slideshow": {
     "slide_type": "fragment"
    }
   },
   "outputs": [],
   "source": [
    "help(torch.nn.Linear)"
   ]
  },
  {
   "cell_type": "markdown",
   "metadata": {
    "slideshow": {
     "slide_type": "slide"
    }
   },
   "source": [
    "Let's make a single fully connected layer:"
   ]
  },
  {
   "cell_type": "code",
   "execution_count": null,
   "metadata": {
    "slideshow": {
     "slide_type": "fragment"
    }
   },
   "outputs": [],
   "source": [
    "from torch import nn\n",
    "fc = nn.Linear(784, 10)"
   ]
  },
  {
   "cell_type": "markdown",
   "metadata": {
    "slideshow": {
     "slide_type": "fragment"
    }
   },
   "source": [
    "Let's use this layer as a network and construct a forward pass function. Our image data is 28 by 28, but we want it to match the layer dimensions. We'll transform the image from 28 by 28 to 1 by 784, and then pass the image through our fully connected layer."
   ]
  },
  {
   "cell_type": "code",
   "execution_count": null,
   "metadata": {
    "slideshow": {
     "slide_type": "fragment"
    }
   },
   "outputs": [],
   "source": [
    "def forward(x):\n",
    "    x = x.view(-1, 28 * 28) # Transforms from (1, 28, 28) to (1, 784)\n",
    "    x = fc(x) # Goes through fully connected layer\n",
    "    return x # Output, 10 neurons"
   ]
  },
  {
   "cell_type": "markdown",
   "metadata": {
    "slideshow": {
     "slide_type": "slide"
    }
   },
   "source": [
    "We'll take the maximum output as our label prediction. Let's see how this layer does - remember we haven't trained it, it's completely random."
   ]
  },
  {
   "cell_type": "code",
   "execution_count": null,
   "metadata": {
    "slideshow": {
     "slide_type": "fragment"
    }
   },
   "outputs": [],
   "source": [
    "for batch in range(3):\n",
    "    images, labels = dataiter.next()\n",
    "    for i in range(len(images)):\n",
    "        outputs = forward(images[i])\n",
    "        h = np.argmax(outputs.detach().numpy())\n",
    "        y = labels[i]\n",
    "        print('True: %d %s, Predicted: %d %s' % (y, labels_text[y], h, labels_text[h]))"
   ]
  },
  {
   "cell_type": "markdown",
   "metadata": {
    "slideshow": {
     "slide_type": "slide"
    }
   },
   "source": [
    "Let's double check that our fully connected layer is simply doing $$y = w^T x + b$$"
   ]
  },
  {
   "cell_type": "code",
   "execution_count": null,
   "metadata": {
    "slideshow": {
     "slide_type": "fragment"
    }
   },
   "outputs": [],
   "source": [
    "a = (np.matmul(images[1].view(-1, 784), np.transpose(fc.weight.detach().numpy())) + fc.bias)[0].detach().numpy()\n",
    "b = forward(images[1]).detach().numpy()\n",
    "print('Numpy:\\n', a)\n",
    "print('PyTorch:\\n', b)"
   ]
  },
  {
   "cell_type": "code",
   "execution_count": null,
   "metadata": {
    "slideshow": {
     "slide_type": "fragment"
    }
   },
   "outputs": [],
   "source": [
    "print(a == b, 'difference: ', np.sum((a-b)**2))"
   ]
  },
  {
   "cell_type": "markdown",
   "metadata": {
    "slideshow": {
     "slide_type": "fragment"
    }
   },
   "source": [
    "We have some slight errors due to floating point representation differences between PyTorch and numpy, but the calculation is the same!"
   ]
  },
  {
   "cell_type": "markdown",
   "metadata": {
    "slideshow": {
     "slide_type": "slide"
    }
   },
   "source": [
    "<div class=\"alert alert-success\">\n",
    "Exercise 3:\n",
    "    \n",
    "1. The following code produces different predictions every time. Why? Change it so that it always predicts the same response.\n",
    "2. Change the forward pass function to a network with the following fully connected layers: (784, 128), (128, 10). Test this network with random weights on some images.\n",
    "    \n",
    "</div>"
   ]
  },
  {
   "cell_type": "code",
   "execution_count": null,
   "metadata": {
    "slideshow": {
     "slide_type": "fragment"
    }
   },
   "outputs": [],
   "source": [
    "def forward(x):\n",
    "    x = x.view(-1, 28 * 28)\n",
    "    x = nn.Linear(784,10)(x)\n",
    "    return x\n",
    "\n",
    "for i in range(len(images)):\n",
    "    outputs = forward(images[i])\n",
    "    h = np.argmax(outputs.detach().numpy())\n",
    "    y = labels[i]\n",
    "    print('True: %d %s, Predicted: %d %s' % (y, labels_text[y], h, labels_text[h]))"
   ]
  },
  {
   "cell_type": "code",
   "execution_count": null,
   "metadata": {
    "slideshow": {
     "slide_type": "slide"
    }
   },
   "outputs": [],
   "source": [
    "# %load solutions/ex3_1.py"
   ]
  },
  {
   "cell_type": "code",
   "execution_count": null,
   "metadata": {
    "slideshow": {
     "slide_type": "fragment"
    }
   },
   "outputs": [],
   "source": [
    "# %load solutions/ex3_2.py"
   ]
  },
  {
   "cell_type": "markdown",
   "metadata": {
    "slideshow": {
     "slide_type": "slide"
    }
   },
   "source": [
    "We'll formalize our neural network functions in a `torch.nn.Module` class which creates the layers when initialized and then calculates the forward pass of the network with the function `forward(x)`."
   ]
  },
  {
   "cell_type": "code",
   "execution_count": null,
   "metadata": {
    "slideshow": {
     "slide_type": "fragment"
    }
   },
   "outputs": [],
   "source": [
    "class Net(nn.Module):\n",
    "    def __init__(self):\n",
    "        super(Net, self).__init__()\n",
    "        self.fc1 = nn.Linear(784, 120)\n",
    "        self.fc2 = nn.Linear(120, 10)\n",
    "\n",
    "    def forward(self, x):\n",
    "        x = x.view(-1, 784)\n",
    "        x = self.fc1(x)\n",
    "        x = self.fc2(x)\n",
    "        return x\n",
    "net = Net()"
   ]
  },
  {
   "cell_type": "markdown",
   "metadata": {
    "slideshow": {
     "slide_type": "fragment"
    }
   },
   "source": [
    "Now that we have our network, we're ready to train it."
   ]
  },
  {
   "cell_type": "markdown",
   "metadata": {
    "slideshow": {
     "slide_type": "slide"
    }
   },
   "source": [
    "# <a id=\"sec3\">3. Backpropagation and training</a>"
   ]
  },
  {
   "cell_type": "markdown",
   "metadata": {
    "slideshow": {
     "slide_type": "fragment"
    }
   },
   "source": [
    "So far, the way we've been using `torch` has been almost equivalent to `numpy`, and we've been calling `detach().numpy()` on `torch` objects to convert them to numpy arrays. We haven't yet taken advantage of the main benefit of `torch`: automatic differentiation. Let's look at that and see how it helps us train our neural network.\n",
    "\n",
    "First, a bit of vocabulary. The objects we're working with, neural network weights and biases, are called `tensors`. \n",
    "<img src=\"img/tensor.png\" width=\"50%\">\n",
    "A `tensor` is a generic term for a linear mapping of any linear mapping from one algeabraic object to another. A scalar is a single value, a vector a 1D object of values, a matrix a 2D object, and a tensor is an N-dimension object (scalars, vectors, and matrices are also tensors). In deep learning frameworks, tensors are the core computational object. We store all values in tensors and link them in computational graphs."
   ]
  },
  {
   "cell_type": "markdown",
   "metadata": {
    "slideshow": {
     "slide_type": "slide"
    }
   },
   "source": [
    "A torch tensor looks very much like a numpy object. We can compare a 2D torch tensor and a numpy matrix:"
   ]
  },
  {
   "cell_type": "code",
   "execution_count": null,
   "metadata": {
    "slideshow": {
     "slide_type": "fragment"
    }
   },
   "outputs": [],
   "source": [
    "a = np.ones((2, 2))\n",
    "b = torch.ones(2, 2)\n",
    "print('Numpy: ', a)\n",
    "print('Torch: ', b)\n",
    "np.all(b.numpy() == a)"
   ]
  },
  {
   "cell_type": "markdown",
   "metadata": {
    "slideshow": {
     "slide_type": "slide"
    }
   },
   "source": [
    "However, we can ask torch to keep track of the gradient of a tensor. As this tensor is used to compute other tensors, this will create a computational graph."
   ]
  },
  {
   "cell_type": "code",
   "execution_count": null,
   "metadata": {
    "slideshow": {
     "slide_type": "fragment"
    }
   },
   "outputs": [],
   "source": [
    "x = torch.ones(2, 2, requires_grad=True)\n",
    "print('x: ', x)\n",
    "y = (3 * x * x).mean()\n",
    "print('y: ', y)\n",
    "y.backward()\n",
    "print('dy/dx: ', x.grad)"
   ]
  },
  {
   "cell_type": "markdown",
   "metadata": {
    "slideshow": {
     "slide_type": "fragment"
    }
   },
   "source": [
    "The gradient definition in `y` depends on the calculation of `x` and allows us to calculate `dy/dx` by calling `backward()`. This is known as automatic differentiation, as the gradients at each step in the computation are automatically calculated. If you want to go further in detail about this, check out the [autograd tutorial](https://pytorch.org/tutorials/beginner/blitz/autograd_tutorial.html)."
   ]
  },
  {
   "cell_type": "markdown",
   "metadata": {
    "slideshow": {
     "slide_type": "slide"
    }
   },
   "source": [
    "Let's use automatic differentiation to calculate the gradients of our neural network parameters. This will automatically perform backpropogation using the gradient definition at each function in our network."
   ]
  },
  {
   "cell_type": "code",
   "execution_count": null,
   "metadata": {
    "slideshow": {
     "slide_type": "fragment"
    }
   },
   "outputs": [],
   "source": [
    "dataiter = iter(trainloader)\n",
    "images, labels = dataiter.next()\n",
    "onehot = torch.nn.functional.one_hot(labels, num_classes=10).float()\n",
    "\n",
    "labels, onehot"
   ]
  },
  {
   "cell_type": "markdown",
   "metadata": {
    "slideshow": {
     "slide_type": "slide"
    }
   },
   "source": [
    "`images` contains our batch of input, so calling `net` on it will perform a forward pass through the network. We'll then compare this to the onehot encoded label and compute the Mean Squared Error."
   ]
  },
  {
   "cell_type": "code",
   "execution_count": null,
   "metadata": {
    "slideshow": {
     "slide_type": "fragment"
    }
   },
   "outputs": [],
   "source": [
    "outputs = net(images)\n",
    "print('Outputs ', outputs)\n",
    "loss = torch.sum((outputs - onehot) ** 2, 1).mean()\n",
    "print('Loss ', loss)"
   ]
  },
  {
   "cell_type": "markdown",
   "metadata": {
    "slideshow": {
     "slide_type": "slide"
    }
   },
   "source": [
    "Now that we've calculated the error, we can backpropagate it using `backward()`. We first set all the gradients to zero, and then we'll observe how the gradients of the second layer's bias change."
   ]
  },
  {
   "cell_type": "code",
   "execution_count": null,
   "metadata": {
    "slideshow": {
     "slide_type": "fragment"
    }
   },
   "outputs": [],
   "source": [
    "net.zero_grad()     # zeroes the gradient buffers of all parameters\n",
    "\n",
    "print('fc2.bias.grad before backward')\n",
    "print(net.fc2.bias.grad)\n",
    "\n",
    "loss.backward()\n",
    "\n",
    "print('fc2.bias.grad after backward')\n",
    "print(net.fc2.bias.grad)"
   ]
  },
  {
   "cell_type": "markdown",
   "metadata": {
    "slideshow": {
     "slide_type": "slide"
    }
   },
   "source": [
    "We can use this gradient calculation to update the neural network weights:\n",
    "$$w_{ij} \\leftarrow w_{ij} - \\alpha \\left(f_\\theta(x) - y\\right) \\delta_j x_{ij}$$"
   ]
  },
  {
   "cell_type": "code",
   "execution_count": null,
   "metadata": {
    "slideshow": {
     "slide_type": "fragment"
    }
   },
   "outputs": [],
   "source": [
    "print('fc2.bias before training')\n",
    "print(net.fc2.bias.data)\n",
    "\n",
    "learning_rate = 0.01\n",
    "for f in net.parameters():\n",
    "    f.data.sub_(f.grad.data * learning_rate)\n",
    "\n",
    "print('fc2.bias after training')\n",
    "print(net.fc2.bias.data)"
   ]
  },
  {
   "cell_type": "markdown",
   "metadata": {
    "slideshow": {
     "slide_type": "slide"
    }
   },
   "source": [
    "Torch provides loss functions and optimizers that we can use instead of writing our own. For now, we'll use the `torch.nn.CrossEntropyLoss` and `torch.optim.SGD` functions.\n",
    "\n",
    "Just one last thing before we train on the full dataset: we're calculting the gradients at every batch, not at every data point. This is an expensive gradient calculation, so let's reduce the number of times we do it by increasing the batch size. This has the benefit of reducing overfitting by computing the gradient over a large sample of images."
   ]
  },
  {
   "cell_type": "code",
   "execution_count": null,
   "metadata": {
    "slideshow": {
     "slide_type": "slide"
    }
   },
   "outputs": [],
   "source": [
    "def train(net):\n",
    "    trainloader = torch.utils.data.DataLoader(trainset, batch_size=512, shuffle=True, num_workers=2)\n",
    "    criterion = nn.CrossEntropyLoss()\n",
    "    optimizer = optim.SGD(net.parameters(), lr=0.001, momentum=0.9)\n",
    "    total_loss = 0.0\n",
    "    for i, data in enumerate(trainloader, 0):\n",
    "        # get the inputs; data is a list of [inputs, labels]\n",
    "        inputs, labels = data\n",
    "        # zero the parameter gradients\n",
    "        optimizer.zero_grad()\n",
    "        # forward + backward + optimize\n",
    "        outputs = net(inputs)\n",
    "        loss = criterion(outputs, labels)\n",
    "        loss.backward()\n",
    "        optimizer.step()\n",
    "        total_loss += loss.item()\n",
    "    return total_loss"
   ]
  },
  {
   "cell_type": "code",
   "execution_count": null,
   "metadata": {
    "slideshow": {
     "slide_type": "fragment"
    }
   },
   "outputs": [],
   "source": [
    "%time total_loss = train(net)\n",
    "print(total_loss)"
   ]
  },
  {
   "cell_type": "markdown",
   "metadata": {
    "slideshow": {
     "slide_type": "slide"
    }
   },
   "source": [
    "To see how our network performs, we'll apply it to the test set."
   ]
  },
  {
   "cell_type": "code",
   "execution_count": null,
   "metadata": {
    "slideshow": {
     "slide_type": "fragment"
    }
   },
   "outputs": [],
   "source": [
    "def get_test_predictions(net):\n",
    "    testloader = torch.utils.data.DataLoader(testset, batch_size=4, shuffle=False)\n",
    "    all_labels = np.array([])\n",
    "    predictions = np.array([])\n",
    "    with torch.no_grad():\n",
    "        for data in testloader:\n",
    "            images, labels = data\n",
    "            outputs = net(images)\n",
    "            _, predicted = torch.max(outputs.data, 1)\n",
    "            all_labels = np.append(all_labels, labels.numpy())\n",
    "            predictions = np.append(predictions, predicted.numpy())\n",
    "    return all_labels, predictions"
   ]
  },
  {
   "cell_type": "code",
   "execution_count": null,
   "metadata": {
    "slideshow": {
     "slide_type": "slide"
    }
   },
   "outputs": [],
   "source": [
    "y_test, predictions = get_test_predictions(net)"
   ]
  },
  {
   "cell_type": "code",
   "execution_count": null,
   "metadata": {
    "slideshow": {
     "slide_type": "fragment"
    }
   },
   "outputs": [],
   "source": [
    "from sklearn.metrics import accuracy_score, classification_report\n",
    "\n",
    "print(\"Accuracy: \")\n",
    "print(accuracy_score(predictions, y_test))\n",
    "print(classification_report(predictions, y_test, target_names=labels_text))"
   ]
  },
  {
   "cell_type": "markdown",
   "metadata": {
    "slideshow": {
     "slide_type": "slide"
    }
   },
   "source": [
    "# <a id=\"sec4\">4. Activation Functions</a>"
   ]
  },
  {
   "cell_type": "markdown",
   "metadata": {
    "slideshow": {
     "slide_type": "fragment"
    }
   },
   "source": [
    "So far, our network is a chain of $$ Y = w^T x+b $$ However, in the last class, the neurons we modeled used sigmoid functions, which we proved to be a universal function approximator: $$ Y = \\sigma(w^T x+b) $$ Let's apply this to our current network and see how it changes training. Torch has two ways to do this: define a `torch.nn.Sigmoid` layer or apply the `torch.nn.functional.sigmoid` function (`torch.sigmoid` in future versions). We'll use the functional method."
   ]
  },
  {
   "cell_type": "code",
   "execution_count": null,
   "metadata": {
    "slideshow": {
     "slide_type": "slide"
    }
   },
   "outputs": [],
   "source": [
    "import torch.nn.functional as F\n",
    "\n",
    "class Net(nn.Module):\n",
    "    def __init__(self):\n",
    "        super(Net, self).__init__()\n",
    "        self.fc1 = nn.Linear(784, 120)\n",
    "        self.fc2 = nn.Linear(120, 10)\n",
    "\n",
    "    def forward(self, x):\n",
    "        x = x.view(-1, 784)\n",
    "        x = F.sigmoid(self.fc1(x))\n",
    "        x = F.sigmoid(self.fc2(x))\n",
    "        return x\n",
    "\n",
    "net = Net()"
   ]
  },
  {
   "cell_type": "code",
   "execution_count": null,
   "metadata": {
    "slideshow": {
     "slide_type": "slide"
    }
   },
   "outputs": [],
   "source": [
    "total_loss = train(net)\n",
    "y_test, predictions = get_test_predictions(net)\n",
    "print(\"Accuracy: \")\n",
    "print(accuracy_score(predictions, y_test))\n",
    "print(classification_report(predictions, y_test, target_names=labels_text))"
   ]
  },
  {
   "cell_type": "markdown",
   "metadata": {
    "slideshow": {
     "slide_type": "slide"
    }
   },
   "source": [
    "## Rectified Linear Units (ReLU)\n",
    "\n",
    "We'll now look at a different activation function, the ReLU. Remember the shape of the sigmoid activation function?"
   ]
  },
  {
   "cell_type": "code",
   "execution_count": null,
   "metadata": {
    "ExecuteTime": {
     "end_time": "2018-11-07T13:22:28.428973Z",
     "start_time": "2018-11-07T13:22:28.270744Z"
    },
    "slideshow": {
     "slide_type": "fragment"
    }
   },
   "outputs": [],
   "source": [
    "def sigmoid(x):\n",
    "    return 1./(1. + np.exp(-x))\n",
    "\n",
    "XX = np.arange(-5,5.,0.1)\n",
    "plt.plot(XX,sigmoid(XX));"
   ]
  },
  {
   "cell_type": "markdown",
   "metadata": {
    "slideshow": {
     "slide_type": "slide"
    }
   },
   "source": [
    "Let's plot the gradient of this function."
   ]
  },
  {
   "cell_type": "code",
   "execution_count": null,
   "metadata": {
    "ExecuteTime": {
     "end_time": "2018-11-07T13:22:31.911109Z",
     "start_time": "2018-11-07T13:22:31.786515Z"
    },
    "slideshow": {
     "slide_type": "fragment"
    }
   },
   "outputs": [],
   "source": [
    "def sigmoid_der(x):\n",
    "    y = sigmoid(x)\n",
    "    return y*(1.-y)\n",
    "\n",
    "XX = np.arange(-5,5.,0.1)\n",
    "plt.plot(XX,sigmoid(XX));\n",
    "plt.plot(XX,sigmoid_der(XX));"
   ]
  },
  {
   "cell_type": "markdown",
   "metadata": {
    "slideshow": {
     "slide_type": "slide"
    }
   },
   "source": [
    "Do you remember that during backpropagation, the $\\delta_j$ were recursively obtained by:\n",
    "$$\\delta_j = \\sigma'(y_j) \\sum_{l\\in L_j} \\delta_l w_{jl}$$\n",
    "\n",
    "This poses a major problem when the networks become deeper: at each layer, we multiply our gradients by $\\sigma'(y_j)$ which is much smaller than 1. So the gradient we want to back-propagate shrinks to zero and all our weight updates become zero.\n",
    "\n",
    "This is called the **vanishing gradient** problem.\n",
    "\n",
    "To avoid this problem, we introduce a new type of activation function: the Rectified Linear Unit (ReLU).\n",
    "$$\\sigma(y) = \\max\\{0,y\\}$$\n",
    "\n",
    "The key property of this function is that its derivative is either zero or one."
   ]
  },
  {
   "cell_type": "code",
   "execution_count": null,
   "metadata": {
    "ExecuteTime": {
     "end_time": "2018-11-07T13:22:34.779670Z",
     "start_time": "2018-11-07T13:22:34.661690Z"
    },
    "slideshow": {
     "slide_type": "fragment"
    }
   },
   "outputs": [],
   "source": [
    "def relu(x):\n",
    "    return np.maximum(0.,x)\n",
    "def relu_der(x):\n",
    "    return relu(x) > 0\n",
    "\n",
    "plt.plot(XX,relu(XX));\n",
    "plt.plot(XX,relu_der(XX));"
   ]
  },
  {
   "cell_type": "markdown",
   "metadata": {
    "slideshow": {
     "slide_type": "slide"
    }
   },
   "source": [
    "**Caveat of using ReLU activation functions**\n",
    "\n",
    "Although they allow us to train deep networks, ReLU functions have their downsides.\n",
    "- Unbounded values: the output of a layer is not bounded anymore, causing possible divergence.\n",
    "- Dying ReLU neurons: the backpropagation of gradients can push the input weigths towards values such that $\\sigma(y)=0$ all the time. Then all future backpropagations will leave these weights unchanged: the neuron is dead.\n",
    "\n",
    "Some advanced methods can compensate these weaknesses but are out of the scope of this introduction.\n",
    "\n",
    "In torch, the ReLU activation function is either a layer `torch.nn.ReLU` or a function in `torch.nn.functional.relu`."
   ]
  },
  {
   "cell_type": "markdown",
   "metadata": {
    "slideshow": {
     "slide_type": "fragment"
    }
   },
   "source": [
    "<div class=\"alert alert-success\">\n",
    "Exercise 5: Change the activation functions in your network. Experiment with different layer sizes and activations to get a higher accuracy.\n",
    "</div>"
   ]
  },
  {
   "cell_type": "code",
   "execution_count": null,
   "metadata": {
    "slideshow": {
     "slide_type": "slide"
    }
   },
   "outputs": [],
   "source": [
    "# %load solutions/ex5.py"
   ]
  },
  {
   "cell_type": "markdown",
   "metadata": {
    "slideshow": {
     "slide_type": "slide"
    }
   },
   "source": [
    "# <a id=\"sec5\">5. Convolutional Neural Networks</a>"
   ]
  },
  {
   "cell_type": "markdown",
   "metadata": {
    "slideshow": {
     "slide_type": "fragment"
    }
   },
   "source": [
    "The main factor which makes deep learning so useful for computer vision is the use of convolutions. Convolutional networks exploit the fact that the data is actually an image in the learning while decreasing the number of weights in the network. To do this, they define **convolution filters** that brush across the image. Such a filter defines a so-called **feature map** that shares the weights of the filter. The result of applying a feature map on an image is a new image of lower resolution, where each pixel is the result of the convolution of the filter with a set of pixels from the input image, as illustrated on the figure below."
   ]
  },
  {
   "cell_type": "markdown",
   "metadata": {
    "slideshow": {
     "slide_type": "slide"
    }
   },
   "source": [
    "<img src=\"img/convnet.gif\" width=\"700px\">"
   ]
  },
  {
   "cell_type": "markdown",
   "metadata": {
    "slideshow": {
     "slide_type": "slide"
    }
   },
   "source": [
    "Another specificity of convolutional networks is **pooling**. Pooling is the operation of down-sampling the image by grouping together certain pixels. The most common pooling operation takes the maximum value over a certain window.\n",
    "\n",
    "<img src=\"img/maxpool.png\">"
   ]
  },
  {
   "cell_type": "markdown",
   "metadata": {
    "slideshow": {
     "slide_type": "slide"
    }
   },
   "source": [
    "<div class=\"alert alert-success\">\n",
    "Exercise 6: Using the `torch.nn.Conv2d` and `torch.nn.MaxPool2d` layer functions (or `torch.nn.functional.max_pool2d`), define and test the following network:\n",
    "    \n",
    "- Input layer: images of size $28\\times 28$ with a single channel\n",
    "- Convolutional layer of 32 feature maps with $3\\times 3$ filters, stride of 1, and ReLU activation functions\n",
    "- Max pooling layer by blocks of size $2 \\times 2$\n",
    "- Convolutional layer of 64 feature maps with $3\\times 3$ filters, stride of 1, and ReLU activation functions\n",
    "- Max pooling layer by blocks of size $2 \\times 2$\n",
    "- Fully connected layer with 128 ReLU neurons\n",
    "- Fully connected output layer with 10 softmax neurons\n",
    "</div>"
   ]
  },
  {
   "cell_type": "code",
   "execution_count": null,
   "metadata": {
    "slideshow": {
     "slide_type": "slide"
    }
   },
   "outputs": [],
   "source": [
    "# %load solutions/ex6.py"
   ]
  },
  {
   "cell_type": "markdown",
   "metadata": {
    "slideshow": {
     "slide_type": "slide"
    }
   },
   "source": [
    "# Overfitting"
   ]
  },
  {
   "cell_type": "markdown",
   "metadata": {
    "slideshow": {
     "slide_type": "slide"
    }
   },
   "source": [
    "# Improving Optimization"
   ]
  },
  {
   "cell_type": "markdown",
   "metadata": {
    "slideshow": {
     "slide_type": "slide"
    }
   },
   "source": [
    "# Neural Architectures"
   ]
  },
  {
   "cell_type": "code",
   "execution_count": null,
   "metadata": {},
   "outputs": [],
   "source": [
    "net = torchvision.models.resnet18()\n",
    "train(net)\n",
    "y_test, predictions = get_test_predictions(net)\n",
    "print(\"Accuracy: \")\n",
    "print(accuracy_score(predictions, y_test))\n",
    "print(classification_report(predictions, y_test, target_names=labels_text))"
   ]
  },
  {
   "cell_type": "markdown",
   "metadata": {},
   "source": [
    "# Why go deep?\n",
    "-> represent more complex functions with few neurons\n",
    "\n",
    "example : \n",
    "(A and B) or (C and D)\n",
    "it is more natural to have two hidden layers than to use lots of neurons on a single one.\n",
    "\n",
    "Implement these two layers (no training) with Pytorch networks\n",
    "\n",
    "# The problem with Deep Networks\n",
    "\n",
    "Hard to train more than a few layers:\n",
    "- lots of parameters require computing power\n",
    "-> but highly paralellizable (especially on GPUs) and recent advances in hardware made it possible.\n",
    "- vanishing gradients\n",
    "-> let's force the gradient to be 1 => ReLU => but still the problem of vanishing of the \"0\" part (dying ReLUs) and the \"sum\" term in the update can cause divergence. That's the price to pay.\n",
    "\n",
    "Ex: implement a 5 hidden layers NN in pytorch.\n",
    "What data?\n",
    "\n",
    "# Avoiding overfitting\n",
    "\n",
    "Early stopping\n",
    "Dropout\n",
    "Regularization\n",
    "Data augmentation\n",
    "\n",
    "Ex: add dropout (or regularization) in the previous network.\n",
    "\n",
    "# Can we have better convergence?\n",
    "\n",
    "From SGD to ADAM.\n",
    "\n",
    "# Detecting local features in spatially-distributed data: convolutions\n",
    "\n",
    "# Going deeper: skip connections to preserve information flow\n",
    "\n",
    "Going progressively deeper : AlexNet (5 conv layers), VGG (16 or 19 conv), Inception (22), ResNet (up to 1001).\n",
    "\n",
    "\n"
   ]
  },
  {
   "cell_type": "code",
   "execution_count": null,
   "metadata": {
    "ExecuteTime": {
     "end_time": "2018-11-07T13:25:32.651748Z",
     "start_time": "2018-11-07T13:24:32.982910Z"
    },
    "scrolled": true
   },
   "outputs": [],
   "source": [
    "%%time\n",
    "history = model.fit(X_train, y_train_ohe, validation_data=(X_test,y_test_ohe), epochs=400, batch_size=512)"
   ]
  },
  {
   "cell_type": "markdown",
   "metadata": {},
   "source": [
    "It is common to plot different values obtained during training (by epoch). Keras provides the convenient [history](https://keras.io/visualization/#training-history-visualization) output to do so."
   ]
  },
  {
   "cell_type": "code",
   "execution_count": null,
   "metadata": {
    "ExecuteTime": {
     "end_time": "2018-11-07T09:16:08.438305Z",
     "start_time": "2018-11-07T09:16:07.665683Z"
    }
   },
   "outputs": [],
   "source": [
    "plt.figure(figsize=(20,10))\n",
    "plt.style.use('ggplot')\n",
    "for i, (name, values) in enumerate(sorted(history.history.items())):\n",
    "    plt.subplot(1, len(history.history.items()), i+1)\n",
    "    plt.plot(values)\n",
    "    plt.title(name)"
   ]
  },
  {
   "cell_type": "markdown",
   "metadata": {},
   "source": [
    "In case you stopped the optimization early and did not run it for the 400 epochs, here is what you should get after those 400 epochs:\n",
    "\n",
    "<img src=\"img/training_history_1.png\">"
   ]
  },
  {
   "cell_type": "code",
   "execution_count": null,
   "metadata": {
    "ExecuteTime": {
     "end_time": "2018-11-07T09:16:32.258189Z",
     "start_time": "2018-11-07T09:16:30.961669Z"
    },
    "scrolled": false
   },
   "outputs": [],
   "source": [
    "from sklearn.metrics import confusion_matrix, classification_report, accuracy_score\n",
    "\n",
    "predictions = model.predict(X_test).argmax(axis=1)\n",
    "\n",
    "print(\"Accuracy: \")\n",
    "print(accuracy_score(predictions, y_test))\n",
    "print(\"\\n\\n\")\n",
    "print(\"Confusion matrix: \")\n",
    "print(confusion_matrix(predictions, y_test))\n",
    "print(\"\\n\\n\")\n",
    "print(classification_report(predictions, y_test, target_names=Labels))"
   ]
  },
  {
   "cell_type": "markdown",
   "metadata": {},
   "source": [
    "Again, if you didn't run the optimization for 400 epochs, here is the result you should have found if you did:\n",
    "\n",
    "```\n",
    "Accuracy: \n",
    "0.5371\n",
    "\n",
    "\n",
    "\n",
    "Confusion matrix: \n",
    "[[  0   0   0   0   0   0   0   0   0   0]\n",
    " [ 11 962  25  17   2   0   8   0   1   0]\n",
    " [  0   0   0   0   0   0   0   0   0   0]\n",
    " [172  25  43 895  46   1  86   0   7   0]\n",
    " [ 18   7 379  35 847   1 145   0   4   0]\n",
    " [  0   0   1   1   1 982   0 997   7 998]\n",
    " [770   6 536  46  97   0 726   0  22   0]\n",
    " [  0   0   0   0   0   0   0   0   0   0]\n",
    " [ 29   0  16   6   7  16  35   3 959   2]\n",
    " [  0   0   0   0   0   0   0   0   0   0]]\n",
    "\n",
    "\n",
    "\n",
    "             precision    recall  f1-score   support\n",
    "\n",
    "T-shirt/top       0.00      0.00      0.00         0\n",
    "    Trouser       0.96      0.94      0.95      1026\n",
    "   Pullover       0.00      0.00      0.00         0\n",
    "      Dress       0.90      0.70      0.79      1275\n",
    "       Coat       0.85      0.59      0.70      1436\n",
    "     Sandal       0.98      0.33      0.49      2987\n",
    "      Shirt       0.73      0.33      0.45      2203\n",
    "    Sneaker       0.00      0.00      0.00         0\n",
    "        Bag       0.96      0.89      0.93      1073\n",
    " Ankle boot       0.00      0.00      0.00         0\n",
    "\n",
    "avg / total       0.89      0.54      0.64     10000```"
   ]
  },
  {
   "cell_type": "markdown",
   "metadata": {},
   "source": [
    "Let's identify some misclassified items."
   ]
  },
  {
   "cell_type": "code",
   "execution_count": null,
   "metadata": {
    "ExecuteTime": {
     "end_time": "2018-11-07T09:21:01.422892Z",
     "start_time": "2018-11-07T09:21:01.057059Z"
    },
    "scrolled": false
   },
   "outputs": [],
   "source": [
    "import random\n",
    "\n",
    "wrong_predictions = (predictions != y_test)\n",
    "n_wp = wrong_predictions.sum()\n",
    "\n",
    "N = 4\n",
    "for i in range(N):\n",
    "    idx = random.choice(range(n_wp))\n",
    "    plt.figure()\n",
    "    plt.imshow(X_test[wrong_predictions,::][idx,::].reshape(28, 28), cmap=\"Greys\")\n",
    "    plt.axis(\"off\")\n",
    "    plt.title(\"Predicted: {0} // Truth: {1}\".format(\n",
    "        Labels[predictions[wrong_predictions][idx]],\n",
    "        Labels[y_test[wrong_predictions][idx]]\n",
    "    ))"
   ]
  },
  {
   "cell_type": "code",
   "execution_count": null,
   "metadata": {
    "ExecuteTime": {
     "end_time": "2018-11-07T13:22:54.755758Z",
     "start_time": "2018-11-07T13:22:54.751201Z"
    }
   },
   "outputs": [],
   "source": [
    "X_train.shape[1]"
   ]
  },
  {
   "cell_type": "code",
   "execution_count": null,
   "metadata": {
    "ExecuteTime": {
     "end_time": "2018-11-07T14:29:56.261229Z",
     "start_time": "2018-11-07T14:29:56.163887Z"
    }
   },
   "outputs": [],
   "source": [
    "from keras.models import Sequential\n",
    "from keras.layers import Dense, Activation\n",
    "import keras.metrics as metrics\n",
    "import keras.losses as losses\n",
    "import keras.optimizers as optimizers\n",
    "\n",
    "\n",
    "def top3_acc(ytrue, ypred):\n",
    "    return metrics.top_k_categorical_accuracy(ytrue, ypred, k=3)\n",
    "\n",
    "model = Sequential()\n",
    "model.add(Dense(units=200, input_dim=X_train.shape[1]))\n",
    "model.add(Activation('relu'))\n",
    "model.add(Dense(units=150))\n",
    "model.add(Activation('relu'))\n",
    "model.add(Dense(units=50))\n",
    "model.add(Activation('relu'))\n",
    "#model.add(Dense(units=30))\n",
    "#model.add(Activation('relu'))\n",
    "model.add(Dense(units=10))\n",
    "model.add(Activation('softmax'))\n",
    "\n",
    "# Change decay for better results\n",
    "# lr: 1e-3, decay: 0\n",
    "\n",
    "N = X_train.shape[0]\n",
    "batch_size = 32\n",
    "n_batch = int(N/batch_size)\n",
    "\n",
    "model.compile(loss=losses.categorical_crossentropy,\n",
    "              optimizer=optimizers.SGD(),\n",
    "              metrics=[metrics.categorical_accuracy, top3_acc])"
   ]
  },
  {
   "cell_type": "code",
   "execution_count": null,
   "metadata": {
    "ExecuteTime": {
     "end_time": "2018-11-07T14:33:27.637902Z",
     "start_time": "2018-11-07T14:29:56.973266Z"
    }
   },
   "outputs": [],
   "source": [
    "%%time\n",
    "history = model.fit(X_train, y_train_ohe, validation_data=(X_test, y_test_ohe), epochs=50, batch_size=512)"
   ]
  },
  {
   "cell_type": "code",
   "execution_count": null,
   "metadata": {
    "ExecuteTime": {
     "end_time": "2018-11-07T14:38:56.820013Z",
     "start_time": "2018-11-07T14:38:56.074050Z"
    }
   },
   "outputs": [],
   "source": [
    "plt.figure(figsize=(20,10))\n",
    "plt.style.use('ggplot')\n",
    "for i, (name, values) in enumerate(sorted(history.history.items())):\n",
    "    plt.subplot(1, len(history.history.items()), i+1)\n",
    "    plt.plot(values)\n",
    "    plt.title(name)"
   ]
  },
  {
   "cell_type": "markdown",
   "metadata": {},
   "source": [
    "In case you stopped the optimization early and did not run it for the 150 epochs, here is what you should get after those 150 epochs:\n",
    "\n",
    "<img src=\"img/training_history_2_overfit.png\">"
   ]
  },
  {
   "cell_type": "code",
   "execution_count": null,
   "metadata": {
    "ExecuteTime": {
     "end_time": "2018-11-07T01:06:08.235142Z",
     "start_time": "2018-11-07T01:06:07.181578Z"
    }
   },
   "outputs": [],
   "source": [
    "from sklearn.metrics import confusion_matrix, classification_report, accuracy_score\n",
    "\n",
    "predictions = model.predict(X_test).argmax(axis=1)\n",
    "\n",
    "print(\"Accuracy: \")\n",
    "print(accuracy_score(predictions, y_test))\n",
    "print(\"\\n\\n\")\n",
    "print(\"Confusion matrix: \")\n",
    "print(confusion_matrix(predictions, y_test))\n",
    "print(\"\\n\\n\")\n",
    "print(classification_report(predictions, y_test, target_names=Labels))"
   ]
  },
  {
   "cell_type": "markdown",
   "metadata": {},
   "source": [
    "Again, if you didn't run the optimization for 150 epochs, here is the result you should have found if you did:\n",
    "\n",
    "```\n",
    "TODO\n",
    "```"
   ]
  },
  {
   "cell_type": "code",
   "execution_count": null,
   "metadata": {
    "ExecuteTime": {
     "end_time": "2018-11-07T01:06:08.822316Z",
     "start_time": "2018-11-07T01:06:08.238681Z"
    }
   },
   "outputs": [],
   "source": [
    "import random\n",
    "\n",
    "wrong_predictions = (predictions != y_test)\n",
    "n_wp = wrong_predictions.sum()\n",
    "\n",
    "N = 4\n",
    "for i in range(N):\n",
    "    idx = random.choice(range(n_wp))\n",
    "    plt.figure()\n",
    "    plt.imshow(X_test[wrong_predictions,::][idx,::].reshape(28, 28), cmap=\"Greys\")\n",
    "    plt.axis(\"off\")\n",
    "    plt.title(\"Predicted: {0} // Truth: {1}\".format(\n",
    "        Labels[predictions[wrong_predictions][idx]],\n",
    "        Labels[y_test[wrong_predictions][idx]]\n",
    "    ))"
   ]
  },
  {
   "cell_type": "markdown",
   "metadata": {},
   "source": [
    "# 5. <a id=\"sec5\"></a>Avoiding overfitting \n",
    "\n",
    "If you look closely, our network still suffers from overfitting. \n",
    "\n",
    "We are going to introduce four techniques to avoid that:\n",
    "\n",
    "**Early-stopping**\n",
    "\n",
    "TODO\n",
    "\n",
    "**Dropout**\n",
    "\n",
    "The idea of dropout is very simple. At each training epoch, some neurons are either \"dropped out\" of the network with probability $1 − p$ or kept with probability $p$, so that training occurs only on a pruned network. Incoming and outgoing edges to a dropped-out neuron are also removed. Only the pruned network is trained on the data in that epoch. The removed neurons are then reinserted into the network with their original weights.<br>\n",
    "[**Dropout: A Simple Way to Prevent Neural Networks from Overfitting**. Srivastava et al., Journal of Machine Learning Research (2014).](https://www.cs.toronto.edu/~hinton/absps/JMLRdropout.pdf)\n",
    "\n",
    "**Regularization**\n",
    "\n",
    "Regularization is an idea borrowed to the general field of statistical learning. In the bias-variance compromise, a good way of allowing low bias while keeping low variance is to penalize the objective function with the norm of the parameters' vector. For example, we could include $\\|\\theta\\|_1$ in the loss function.\n",
    "\n",
    "**Data augmentation**\n",
    "\n",
    "Data augmentation consists in artificially creating data by applying transformations on the input data. This way, we provide more examples to the classifier, that avoids overfitting by precisely overfitting the perturbed artificial data. It is particularly efficient when working with image data.\n",
    "\n",
    "In this section we only experiment with dropout."
   ]
  },
  {
   "cell_type": "code",
   "execution_count": null,
   "metadata": {
    "ExecuteTime": {
     "end_time": "2018-11-07T09:52:21.782827Z",
     "start_time": "2018-11-07T09:52:21.556314Z"
    }
   },
   "outputs": [],
   "source": [
    "from keras.layers import Dropout\n",
    "\n",
    "dropout_rate=0.1\n",
    "\n",
    "model = Sequential()\n",
    "model.add(Dense(units=200, input_dim=X_train.shape[1]))\n",
    "model.add(Activation('relu'))\n",
    "model.add(Dropout(dropout_rate))\n",
    "model.add(Dense(units=150))\n",
    "model.add(Activation('relu'))\n",
    "model.add(Dropout(dropout_rate))\n",
    "model.add(Dense(units=50))\n",
    "model.add(Activation('relu'))\n",
    "model.add(Dropout(dropout_rate))\n",
    "model.add(Dense(units=30))\n",
    "model.add(Activation('relu'))\n",
    "model.add(Dropout(dropout_rate))\n",
    "model.add(Dense(units=10))\n",
    "model.add(Activation('softmax'))\n",
    "\n",
    "model.compile(loss=losses.categorical_crossentropy,\n",
    "              optimizer=optimizers.SGD(lr=0.001, decay=0., nesterov=False),\n",
    "              metrics=[metrics.categorical_accuracy, top3_acc])"
   ]
  },
  {
   "cell_type": "code",
   "execution_count": null,
   "metadata": {
    "ExecuteTime": {
     "end_time": "2018-11-07T09:56:09.789787Z",
     "start_time": "2018-11-07T09:52:21.784612Z"
    },
    "scrolled": true
   },
   "outputs": [],
   "source": [
    "%%time\n",
    "history = model.fit(X_train, y_train_ohe, validation_data=(X_test,y_test_ohe), epochs=150, batch_size=64)"
   ]
  },
  {
   "cell_type": "code",
   "execution_count": null,
   "metadata": {
    "ExecuteTime": {
     "end_time": "2018-11-07T01:44:20.494153Z",
     "start_time": "2018-11-07T01:44:19.589300Z"
    }
   },
   "outputs": [],
   "source": [
    "plt.figure(figsize=(20,10))\n",
    "\n",
    "for i, (name, values) in enumerate(sorted(history.history.items())):\n",
    "    plt.subplot(1, len(history.history.items()), i+1)\n",
    "    plt.plot(values)\n",
    "    plt.title(name)"
   ]
  },
  {
   "cell_type": "markdown",
   "metadata": {},
   "source": [
    "In case you stopped the optimization early and did not run it for the 150 epochs, here is what you should get after those 150 epochs:\n",
    "\n",
    "<img src=\"img/training_history_3.png\">"
   ]
  },
  {
   "cell_type": "code",
   "execution_count": null,
   "metadata": {
    "ExecuteTime": {
     "end_time": "2018-11-07T01:44:21.920140Z",
     "start_time": "2018-11-07T01:44:20.496479Z"
    },
    "scrolled": true
   },
   "outputs": [],
   "source": [
    "predictions = model.predict(X_test).argmax(axis=1)\n",
    "\n",
    "print(\"Accuracy: \")\n",
    "print(accuracy_score(predictions, y_test))\n",
    "print(\"\\n\\n\")\n",
    "print(\"Confusion matrix: \")\n",
    "print(confusion_matrix(predictions, y_test))\n",
    "print(\"\\n\\n\")\n",
    "print(classification_report(predictions, y_test, target_names=Labels))"
   ]
  },
  {
   "cell_type": "markdown",
   "metadata": {},
   "source": [
    "Again, if you didn't run the optimization for 150 epochs, here is the result you should have found if you did:\n",
    "\n",
    "```\n",
    "Accuracy: \n",
    "0.8829\n",
    "\n",
    "\n",
    "\n",
    "Confusion matrix: \n",
    "[[825   2  14  17   0   0 118   0   5   0]\n",
    " [  1 963   0   5   0   0   1   0   0   0]\n",
    " [ 14   1 785   8  85   0 107   0   4   0]\n",
    " [ 28  25  12 894  24   1  26   0   3   0]\n",
    " [  3   4 123  44 851   0  70   0   3   0]\n",
    " [  1   0   0   2   0 952   0  13   3   5]\n",
    " [120   3  64  28  39   0 664   0  11   1]\n",
    " [  0   0   0   1   0  31   0 968   6  32]\n",
    " [  8   2   2   1   1   2  14   0 965   0]\n",
    " [  0   0   0   0   0  14   0  19   0 962]]\n",
    "\n",
    "\n",
    "\n",
    "             precision    recall  f1-score   support\n",
    "\n",
    "T-shirt/top       0.82      0.84      0.83       981\n",
    "    Trouser       0.96      0.99      0.98       970\n",
    "   Pullover       0.79      0.78      0.78      1004\n",
    "      Dress       0.89      0.88      0.89      1013\n",
    "       Coat       0.85      0.78      0.81      1098\n",
    "     Sandal       0.95      0.98      0.96       976\n",
    "      Shirt       0.66      0.71      0.69       930\n",
    "    Sneaker       0.97      0.93      0.95      1038\n",
    "        Bag       0.96      0.97      0.97       995\n",
    " Ankle boot       0.96      0.97      0.96       995\n",
    "\n",
    "avg / total       0.88      0.88      0.88     10000\n",
    "```"
   ]
  },
  {
   "cell_type": "markdown",
   "metadata": {},
   "source": [
    "# 6. <a id=\"sec6\"></a>Better optimizers\n",
    "\n",
    "Stochastic Gradient Descent is our core method but improved optimizers are readily implemented in Keras. Most of them, like ADAM or RMSprop rely on the idea of including momentum in the gradient descent."
   ]
  },
  {
   "cell_type": "code",
   "execution_count": null,
   "metadata": {
    "ExecuteTime": {
     "end_time": "2018-11-07T10:22:50.050899Z",
     "start_time": "2018-11-07T10:22:49.944900Z"
    }
   },
   "outputs": [],
   "source": [
    "from keras.layers import Conv2D, MaxPool2D, MaxPooling2D, Flatten\n",
    "\n",
    "model = Sequential()\n",
    "\n",
    "model.add(Conv2D(16, (5, 5), activation='relu', input_shape=(28, 28, 1)))\n",
    "model.add(MaxPooling2D(pool_size=(2, 2)))\n",
    "model.add(Conv2D(16, (5, 5), activation='relu'))\n",
    "model.add(MaxPooling2D(pool_size=(2, 2)))\n",
    "model.add(Flatten())\n",
    "model.add(Dense(200, activation='relu'))\n",
    "model.add(Dropout(dropout_rate))\n",
    "model.add(Dense(10, activation='softmax'))\n",
    "\n",
    "model.compile(loss=losses.categorical_crossentropy,\n",
    "              optimizer=optimizers.SGD(lr=0.001, decay=0., nesterov=False),\n",
    "              metrics=[metrics.categorical_accuracy, top3_acc])"
   ]
  },
  {
   "cell_type": "markdown",
   "metadata": {},
   "source": [
    "Let's save a picture of our model."
   ]
  },
  {
   "cell_type": "code",
   "execution_count": null,
   "metadata": {
    "ExecuteTime": {
     "end_time": "2018-11-07T10:24:20.434876Z",
     "start_time": "2018-11-07T10:24:20.334556Z"
    }
   },
   "outputs": [],
   "source": [
    "# requires pydot and graphviz (skip this step if you don't want to install them)\n",
    "from keras.utils import plot_model\n",
    "plot_model(model, to_file='model.png')"
   ]
  },
  {
   "cell_type": "markdown",
   "metadata": {},
   "source": [
    "Let's train."
   ]
  },
  {
   "cell_type": "code",
   "execution_count": null,
   "metadata": {
    "ExecuteTime": {
     "end_time": "2018-11-07T10:27:41.781074Z",
     "start_time": "2018-11-07T10:25:30.137210Z"
    }
   },
   "outputs": [],
   "source": [
    "%%time\n",
    "history = model.fit(X_train.reshape(-1, 28, 28, 1), y_train_ohe, validation_data=(X_test.reshape(-1, 28, 28, 1),y_test_ohe), epochs=150, batch_size=64)"
   ]
  },
  {
   "cell_type": "code",
   "execution_count": null,
   "metadata": {
    "ExecuteTime": {
     "end_time": "2018-11-07T06:46:32.304268Z",
     "start_time": "2018-11-07T06:46:31.478011Z"
    }
   },
   "outputs": [],
   "source": [
    "plt.figure(figsize=(20,10))\n",
    "\n",
    "for i, (name, values) in enumerate(sorted(history.history.items())):\n",
    "    plt.subplot(1, len(history.history.items()), i+1)\n",
    "    plt.plot(values)\n",
    "    plt.title(name)"
   ]
  },
  {
   "cell_type": "markdown",
   "metadata": {},
   "source": [
    "In case you stopped the optimization early and did not run it for the 150 epochs, here is what you should get after those 150 epochs:\n",
    "\n",
    "<img src=\"img/training_history_4.png\">"
   ]
  },
  {
   "cell_type": "code",
   "execution_count": null,
   "metadata": {
    "ExecuteTime": {
     "end_time": "2018-11-07T06:46:39.457740Z",
     "start_time": "2018-11-07T06:46:32.306441Z"
    }
   },
   "outputs": [],
   "source": [
    "predictions = model.predict(X_test.reshape(-1, 28, 28, 1)).argmax(axis=1)\n",
    "\n",
    "print(\"Accuracy: \")\n",
    "print(accuracy_score(predictions, y_test))\n",
    "print(\"\\n\\n\")\n",
    "print(\"Confusion matrix: \")\n",
    "print(confusion_matrix(predictions, y_test))\n",
    "print(\"\\n\\n\")\n",
    "print(classification_report(predictions, y_test, target_names=Labels))"
   ]
  },
  {
   "cell_type": "markdown",
   "metadata": {},
   "source": [
    "Again, if you didn't run the optimization for 150 epochs, here is the result you should have found if you did:\n",
    "\n",
    "```\n",
    "Accuracy: \n",
    "0.8825\n",
    "\n",
    "\n",
    "\n",
    "Confusion matrix: \n",
    "[[784   3  13  12   2   0  90   0   1   0]\n",
    " [  1 970   1   7   1   0   5   0   0   0]\n",
    " [ 11   0 755   8  45   0  58   0   0   1]\n",
    " [ 26  17   7 897  28   0  32   0   5   1]\n",
    " [  2   4  95  33 823   0  50   0   3   0]\n",
    " [  5   0   1   0   0 955   0  13   1   5]\n",
    " [163   6 125  37  97   1 752   0  14   0]\n",
    " [  0   0   1   0   0  32   0 972   7  44]\n",
    " [  8   0   2   6   4   2  13   0 968   0]\n",
    " [  0   0   0   0   0  10   0  15   1 949]]\n",
    "\n",
    "\n",
    "\n",
    "             precision    recall  f1-score   support\n",
    "\n",
    "T-shirt/top       0.78      0.87      0.82       905\n",
    "    Trouser       0.97      0.98      0.98       985\n",
    "   Pullover       0.76      0.86      0.80       878\n",
    "      Dress       0.90      0.89      0.89      1013\n",
    "       Coat       0.82      0.81      0.82      1010\n",
    "     Sandal       0.95      0.97      0.96       980\n",
    "      Shirt       0.75      0.63      0.69      1195\n",
    "    Sneaker       0.97      0.92      0.95      1056\n",
    "        Bag       0.97      0.97      0.97      1003\n",
    " Ankle boot       0.95      0.97      0.96       975\n",
    "\n",
    "avg / total       0.88      0.88      0.88     10000\n",
    "```"
   ]
  },
  {
   "cell_type": "markdown",
   "metadata": {},
   "source": [
    "# <a id=\"sec8\"></a> 8. Going further\n",
    "\n",
    "Deep Learning is a hot topic with new contributions almost every week. Interested readers can investigate further the topics above to get a deeper understanding or explore the following keywords for example:\n",
    "- batch normalization\n",
    "- recurrent networks and LSTM\n",
    "- pretrain / fine-tune\n",
    "- pre-trained networks\n",
    "- generative adversarial networks"
   ]
  },
  {
   "cell_type": "code",
   "execution_count": null,
   "metadata": {},
   "outputs": [],
   "source": []
  }
 ],
 "metadata": {
  "kernelspec": {
   "display_name": "Python 3",
   "language": "python",
   "name": "python3"
  },
  "language_info": {
   "codemirror_mode": {
    "name": "ipython",
    "version": 3
   },
   "file_extension": ".py",
   "mimetype": "text/x-python",
   "name": "python",
   "nbconvert_exporter": "python",
   "pygments_lexer": "ipython3",
   "version": "3.7.5"
  },
  "toc": {
   "base_numbering": 1,
   "nav_menu": {},
   "number_sections": true,
   "sideBar": true,
   "skip_h1_title": false,
   "title_cell": "Table of Contents",
   "title_sidebar": "Contents",
   "toc_cell": false,
   "toc_position": {
    "height": "calc(100% - 180px)",
    "left": "10px",
    "top": "150px",
    "width": "384px"
   },
   "toc_section_display": true,
   "toc_window_display": true
  }
 },
 "nbformat": 4,
 "nbformat_minor": 2
}
